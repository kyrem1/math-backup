





from functools import lru_cache
from sage.all import binomial

@lru_cache(maxsize=None)  # Cache results of function calls
def f(s, n, p=1):
    if n == 0:  # Adding base case to prevent division by zero
        return 1
    return (1/((s-1)*n+1)) * binomial(s*n, n)

def area(s, n):
    sum1 = 0
    for j in range(n+1): 
        sum1 += j * (n-j) * f(s+1, j) * f(s+1, n-j)

    sum2 = 0
    for j in range(n):
        inner = 0
        for i in range(j+1):
            inner += i * (j-i) * f(s+1, i) * f(s+1, j-i) * binomial((s+1)*(n-j)-2, n-1-j) 
        sum2 += inner / (n-j)

    return (s/2)*n * f(s+1, n) + binomial(s+1, 2) * (sum1 - sum2)


@lru_cache(maxsize=None)
def aterm1(s,n):
    sum = 0
    for j in range(n+1): 
        sum += j * (n-j) * f(s+1, j) * f(s+1, n-j)
    return binomial(s+1, 2) * sum

@lru_cache(maxsize=None)
def aterm2(s,n):
    sum = 0
    for j in range(n):
        inner = 0
        for i in range(j+1):
            inner += i * (j-i) * f(s+1, i) * f(s+1, j-i) * binomial((s+1)*(n-j)-2, n-1-j) 
        sum += inner / (n-j)
    return binomial(s+1, 2) * sum




@lru_cache(maxsize=None)
def average_series_coefs(s, n):
    L.<z> = LazyPowerSeriesRing(QQ)
    g = L.undefined()
    g.define(1+z*g^(s+1))
    S = L.undefined()
    S.define(s*z*(g.derivative())/2 + (binomial(s+1,2)/g)*(z* g.derivative())^2 ) 
    return [S.coefficient(i)/g.coefficient(i) for i in range(n)]

@lru_cache(maxsize=None)
def average_series_coef(s, n):
    L.<z> = LazyPowerSeriesRing(QQ)
    g = L.undefined()
    g.define(1+z*g^(s+1))
    S = L.undefined()
    S.define(s*z*(g.derivative())/2 + (binomial(s+1,2)/g)*(z* g.derivative())^2 ) 
    return S.coefficient(n)/g.coefficient(n)



print([N(k) for k in average_series_coefs(2, 10)])
print([N(area(2,i)/f(3,i)) for i in range(0,10)])





from sage.all import binomial, timeit
from functools import lru_cache

# Original function without memoization
def f_original(s, n, p=1):
    if n == 0:
        return 1
    return 1/((s-1)*n+1) * binomial(s*n, n)

def area_original(s, n):
    sum1 = 0
    for j in range(n+1): 
        sum1 += j * (n-j) * f_original(s+1, j) * f_original(s+1, n-j)

    sum2 = 0
    for j in range(n):
        inner = 0
        for i in range(j+1):
            inner += i * (j-i) * f_original(s+1, i) * f_original(s+1, j-i) * binomial((s+1)*(n-j)-2, n-1-j) 
        sum2 += inner / (n-j)

    return (s/2)*n * f_original(s+1, n) + binomial(s+1, 2) * (sum1 - sum2)

# Memoized function
@lru_cache(maxsize=None)
def f_memoized(s, n, p=1):
    if n == 0:
        return 1
    return 1/((s-1)*n+1) * binomial(s*n, n)

def area_memoized(s, n):
    sum1 = 0
    for j in range(n+1): 
        sum1 += j * (n-j) * f_memoized(s+1, j) * f_memoized(s+1, n-j)

    sum2 = 0
    for j in range(n):
        inner = 0
        for i in range(j+1):
            inner += i * (j-i) * f_memoized(s+1, i) * f_memoized(s+1, j-i) * binomial((s+1)*(n-j)-2, n-1-j)
        sum2 += inner  / (n-j)

    return (s/2)*n * f_memoized(s+1, n) + binomial(s+1, 2) * (sum1 - sum2)

# Testing and measuring the speedup
test_cases = [(2, 5), (3, 10)]
for s, n in test_cases:
    time_original = timeit('area_original(s, n)', number=1, repeat=3, seconds=True, globals=globals())
    f_memoized.cache_clear()  # Clear the cache before running the memoized version
    time_memoized = timeit('area_memoized(s, n)', number=1, repeat=3, seconds=True, globals=globals())

    print(f"Testing for s={s}, n={n}:")
    print(f"Original version time: {time_original:.6f} seconds")
    print(f"Memoized version time: {time_memoized:.6f} seconds")
    speedup = time_original / time_memoized
    print(f"Speedup factor: {speedup:.2f}x\n")















import numpy as np
import matplotlib.pyplot as plt

def plot_logarithm_of_function(func, max_n):
    n_values = list(range(2, max_n + 1))
    f_values = [func(n) for n in n_values]
    log_f_values = np.log(f_values)

    plt.figure(figsize=(10, 6))
    plt.plot(n_values, log_f_values, marker='o', linestyle='-')
    plt.title('Logarithm of Function Values')
    plt.xlabel('n')
    plt.ylabel('log(f(n))')
    plt.grid(True)
    plt.show()

# Example function and plotting
plot_logarithm_of_function(lambda a : aterm1(s=1,n=a), 100)





def test_exponential_growth(func, max_n):
    ratios = []
    for n in range(3, max_n):
        if func(n) == 0:
            ratios.append(0)
        else:
            ratio = func(n + 1) / func(n)
            ratios.append(N(ratio))
    return ratios


# Test the function
max_n = 150  # You can increase this value based on how far you want to test
ratios = [ N(k) for k in test_exponential_growth(lambda a : aterm1(s=1,n=a), max_n)]
print("Ratios f(n+1)/f(n):")
print(ratios)

n_values = list(range(3, len(ratios) + 3))
plt.figure(figsize=(10, 6))
plt.plot(n_values, ratios, marker='o', linestyle='-')
plt.title('Ratios')
plt.xlabel('n')
plt.ylabel('ratio(n)')
plt.grid(True)
plt.show()


max_n = 50
ratios = [n - aterm2(s=2, n=n)/f(3, n=n) for n in range(1, max_n+1) ]
print("avg aterm(2) comp to n^3/2")
print([N(k) for k in ratios])

n_values = list(range(1, len(ratios) + 1))
plt.figure(figsize=(10, 6))
plt.plot(n_values, ratios, marker='o', linestyle='-')
plt.title('n - aterm2/f(n)')
plt.xlabel('n')
plt.ylabel('n - aterm2/f(n)')
plt.grid(True)
plt.show()





plot_logarithm_of_function(lambda a : average_series_coef(2,n), 10)


import numpy as np
import matplotlib.pyplot as plt

def calculate_exponent(f, n_values):
    # Calculate f(n) and take logs
    log_n = np.log(n_values)
    log_f = np.log([f(n) for n in n_values])
    
    # Perform linear regression
    coefficients = np.polyfit(log_n, log_f, 1)  # Linear fit
    slope = coefficients[0]  # The slope is the estimate for c
    
    return slope

def plot_log_function(f, n_values):
    # Plotting log(f(n)) vs log(n)
    log_n = np.log(n_values)
    log_f = np.log([f(n) for n in n_values])
    
    plt.figure(figsize=(10, 6))
    plt.plot(log_n, log_f, 'o-', label='log(f(n)) vs log(n)')
    plt.xlabel('log(n)')
    plt.ylabel('log(f(n))')
    plt.title('Log-Log Plot of f(n) vs n')
    plt.grid(True)
    plt.legend()
    plt.show()

# Define a range of input sizes
n_values = [2**i for i in range(9, 11)]  # Powers of two, or any range you prefer
func = lambda a : abs(a - aterm2(2,a)/f(3,a))
# Calculate the exponent
c = calculate_exponent(func, n_values)
print("Estimated exponent c is:", c)

# Plot the function on a log-log scale
plot_log_function(func, n_values)


def bsum(s, n, p, q):
    sum = 0
    for k in range(n+1): 
        sum += binomial((s+1)*k+p,k) * binomial((s+1)*(n-k)+q,n-k)
    return sum


print([bsum(s=3, n=n, p=0, q=1) for n in range(1,20)])


prec = 20
s=3
R.<z,t> = PowerSeriesRing(QQ, default_prec=prec); R
F = (s/2)*z*t^(s+1)/(1-(s+1)*z*t^s)
F



