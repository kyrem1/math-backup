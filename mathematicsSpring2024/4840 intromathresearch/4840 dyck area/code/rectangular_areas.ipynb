{
 "cells": [
  {
   "cell_type": "code",
   "execution_count": 1,
   "id": "5fe8841a-bc09-4802-92f8-cdc088f6ecae",
   "metadata": {},
   "outputs": [],
   "source": [
    "# # Function to generate all rectangular Dyck paths for a given m x n rectangle\n",
    "# def rectangular_dyck_paths(m, n):\n",
    "#     if m == 0 and n == 0:\n",
    "#         return [[]]\n",
    "#     if m==0 and n>0:\n",
    "#         return [['R'] * n]\n",
    "#     if m>0 and n==0:\n",
    "#         return [['U'] * m]\n",
    "\n",
    "#     paths = []\n",
    "#     if m > 0:\n",
    "#         # Add a step in the vertical direction and recursively generate the rest of the path\n",
    "#         for path in rectangular_dyck_paths(m - 1, n):\n",
    "#             paths.append(['U'] + path)\n",
    "#     if n > 0 and m < n:\n",
    "#         # Add a step in the horizontal direction and recursively generate the rest of the path\n",
    "#         for path in rectangular_dyck_paths(m, n - 1):\n",
    "#             paths.append(['R'] + path)\n",
    "    \n",
    "#     return paths\n",
    "# Function to generate all rectangular Dyck paths for a given m x n rectangle\n",
    "# def rectangular_dyck_paths(m, n, memo={}):\n",
    "#     if (m, n) in memo:\n",
    "#         return memo[(m, n)]\n",
    "\n",
    "#     if m == 0 and n == 0:\n",
    "#         return [[]]\n",
    "#     if m == 0 and n > 0:\n",
    "#         return [['R'] * n]\n",
    "#     if m > 0 and n == 0:\n",
    "#         return [['U'] * m]\n",
    "\n",
    "#     paths = []\n",
    "#     if m > 0:\n",
    "#         # Add a step in the vertical direction and recursively generate the rest of the path\n",
    "#         for path in rectangular_dyck_paths(m - 1, n, memo):\n",
    "#             paths.append(['U'] + path)\n",
    "#     if n > 0 and m < n:\n",
    "#         # Add a step in the horizontal direction and recursively generate the rest of the path\n",
    "#         for path in rectangular_dyck_paths(m, n - 1, memo):\n",
    "#             paths.append(['R'] + path)\n",
    "    \n",
    "#     memo[(m, n)] = paths\n",
    "#     return paths\n",
    "\n",
    "# Function to generate all rectangular Dyck paths for a given m x n rectangle\n",
    "# Function to generate all rectangular Dyck paths for a given m x n rectangle\n",
    "def rectangular_dyck_paths(m, n):\n",
    "    dp = [[0] * (n + 1) for _ in range(m + 1)]\n",
    "    dp[0][0] = 1\n",
    "\n",
    "    for i in range(1, m + 1):\n",
    "        dp[i][0] = 1\n",
    "    for j in range(1, n + 1):\n",
    "        dp[0][j] = 1\n",
    "\n",
    "    for i in range(1, m + 1):\n",
    "        for j in range(1, n + 1):\n",
    "            dp[i][j] = dp[i - 1][j] + dp[i][j - 1]\n",
    "\n",
    "    paths = []\n",
    "    def generate_path(i, j, path):\n",
    "        if i == 0 and j == 0:\n",
    "            paths.append(path)\n",
    "            return\n",
    "        if i > 0:\n",
    "            generate_path(i - 1, j, ['U'] + path)\n",
    "        if j > 0 and i < j:\n",
    "            generate_path(i, j - 1, ['R'] + path)\n",
    "\n",
    "    generate_path(m, n, [])\n",
    "    return paths\n",
    "\n",
    "\n",
    "# Function to compute the area under a rectangular Dyck path\n",
    "def path_area(path, m, n):\n",
    "    area = 0\n",
    "    vertical_steps = 0\n",
    "    for step in path:\n",
    "        if step == 'U':\n",
    "            vertical_steps += 1\n",
    "        elif step == 'R':\n",
    "            area += vertical_steps\n",
    "    \n",
    "    return (m*n)/2-area\n",
    "\n",
    "# Main function to compute average area under Dyck paths for a given rectangle size\n",
    "def total_dyck_path_area(m, n):\n",
    "    paths = rectangular_dyck_paths(m, n)\n",
    "    total_area = 0\n",
    "    for path in paths:\n",
    "        total_area += path_area(path, m, n)\n",
    "    \n",
    "    return total_area\n",
    "\n",
    "def average_dyck_path_area(m,n):\n",
    "    paths = rectangular_dyck_paths(m, n)\n",
    "    total_area = 0\n",
    "    for path in paths:\n",
    "        total_area += path_area(path, m, n)\n",
    "    return total_area/len(paths)\n",
    "\n"
   ]
  },
  {
   "cell_type": "code",
   "execution_count": 2,
   "id": "899123ad-7f5e-499f-990e-7c83c300ee71",
   "metadata": {},
   "outputs": [
    {
     "name": "stdout",
     "output_type": "stream",
     "text": [
      "[['R', 'R', 'R', 'U', 'U', 'U'], ['R', 'R', 'U', 'R', 'U', 'U'], ['R', 'U', 'R', 'R', 'U', 'U'], ['R', 'R', 'U', 'U', 'R', 'U'], ['R', 'U', 'R', 'U', 'R', 'U']]\n"
     ]
    }
   ],
   "source": [
    "# Example usage for a 3x3 rectangl\n",
    "print(rectangular_dyck_paths(3,3))"
   ]
  },
  {
   "cell_type": "code",
   "execution_count": 3,
   "id": "d75d6961-b68b-4e96-97ae-bc1451c81931",
   "metadata": {},
   "outputs": [
    {
     "name": "stdout",
     "output_type": "stream",
     "text": [
      "     _\n",
      "   _| \n",
      " _|  .\n",
      "|  . .\n",
      "\n",
      "   ___\n",
      "  | x \n",
      " _|  .\n",
      "|  . .\n",
      "\n",
      "     _\n",
      " ___| \n",
      "| x  .\n",
      "|  . .\n",
      "\n"
     ]
    }
   ],
   "source": [
    "from sage.combinat.dyck_word import DyckWords\n",
    "\n",
    "# Function to display Dyck paths\n",
    "def display_dyck_paths(size, count=3):\n",
    "    # Get Dyck words of the specified size\n",
    "    dyck_words = DyckWords(size)\n",
    "    \n",
    "    # Iterate over the first few Dyck words and plot them\n",
    "    for dyck_word in dyck_words[:count]:\n",
    "        dyck_word.pretty_print()\n",
    "\n",
    "# Example usage for Dyck paths of size 3\n",
    "display_dyck_paths(3)\n"
   ]
  },
  {
   "cell_type": "code",
   "execution_count": 3,
   "id": "8e2d9fd1-77ac-4430-bc74-9431d6163fb7",
   "metadata": {},
   "outputs": [
    {
     "name": "stdout",
     "output_type": "stream",
     "text": [
      "0\n",
      "1\n",
      "12\n",
      "112\n",
      "945\n",
      "7551\n",
      "58324\n",
      "440224\n",
      "3267927\n"
     ]
    }
   ],
   "source": [
    "areas = []\n",
    "for n in range(9):\n",
    "    t = total_dyck_path_area(n,2*n)\n",
    "    areas.append(t)\n",
    "    print(t)"
   ]
  },
  {
   "cell_type": "code",
   "execution_count": 5,
   "id": "d619a724-050e-4bae-a113-d7fe4b971caa",
   "metadata": {},
   "outputs": [
    {
     "data": {
      "text/plain": [
       "[]"
      ]
     },
     "execution_count": 5,
     "metadata": {},
     "output_type": "execute_result"
    }
   ],
   "source": [
    "fricas.guess('[1,2,3,5]')"
   ]
  },
  {
   "cell_type": "code",
   "execution_count": 5,
   "id": "e262a202-9980-49b0-a98d-3b43b2c20c35",
   "metadata": {},
   "outputs": [],
   "source": [
    "def Y(n,s):\n",
    "    sum = 0\n",
    "    for k in range(n+1):\n",
    "        sum += binomial(s*k,k) * binomial(s*(n-k), n-k)\n",
    "    return sum\n",
    "\n",
    "def T(n,s):\n",
    "    return binomial(s*n,n) / ((s-1)*n+1)\n",
    "\n",
    "def A(n,s):\n",
    "    return Y(n+1,s) / 2 - ((2*s - 3)*n +2*s -2) * T(n+1,s) / 2"
   ]
  },
  {
   "cell_type": "code",
   "execution_count": 9,
   "id": "2fc93c10-d9ee-45f4-816e-a322d6c14601",
   "metadata": {},
   "outputs": [
    {
     "name": "stdout",
     "output_type": "stream",
     "text": [
      "1 vs. 1\n",
      "9 vs. 5\n",
      "69 vs. 22\n",
      "502 vs. 93\n",
      "3564 vs. 386\n"
     ]
    }
   ],
   "source": [
    "for n in range(5):\n",
    "    print(f'{A(n,3)} vs. {explicit_total(n)+4^n}')"
   ]
  },
  {
   "cell_type": "code",
   "execution_count": 6,
   "id": "c4b7637c-3d4b-450b-9a83-d9b49d1fac14",
   "metadata": {},
   "outputs": [],
   "source": [
    "def explicit_total(n):\n",
    "    return 4^n - binomial(2*n+1,n)"
   ]
  },
  {
   "cell_type": "code",
   "execution_count": null,
   "id": "8fd4a902-5973-48ec-b8e4-7ae37e622c2d",
   "metadata": {},
   "outputs": [],
   "source": [
    "for n in range(5):\n",
    "    print(f'{binomial(2*n+2, n+1)} vs. {binomial(2*n+1,n)}')"
   ]
  },
  {
   "cell_type": "code",
   "execution_count": 7,
   "id": "f29bf13e-35a9-496f-bea9-7fae3d6864b7",
   "metadata": {},
   "outputs": [],
   "source": [
    "def asymp(n, a):\n",
    "    expr = n^(3/2) * sqrt(2*pi*a*(a+1))/4\n",
    "    return N(expr.subs({n: n, a: a}))"
   ]
  },
  {
   "cell_type": "code",
   "execution_count": 28,
   "id": "bfba8cff-7003-4a2a-bf95-64420d785e23",
   "metadata": {},
   "outputs": [
    {
     "name": "stdout",
     "output_type": "stream",
     "text": [
      "0.000000000000000 vs 0.000000000000000\n",
      "2.00000000000000 vs 1.53499006191973\n",
      "5.33333333333333 vs 4.34160752734961\n",
      "9.33333333333333 vs 7.97604232907482\n",
      "13.7454545454545 vs 12.2799204953579\n",
      "18.4395604395604 vs 17.1617106161957\n",
      "23.3389355742297 vs 22.5596544716790\n",
      "28.3942208462332 vs 28.4284137815667\n"
     ]
    }
   ],
   "source": [
    "for n in range(8):\n",
    "    print(f'{4*N(average_dyck_path_area(n,2*n))} vs {asymp(n,2)}')"
   ]
  },
  {
   "cell_type": "code",
   "execution_count": 8,
   "id": "8d799e59-097e-45a9-8d3d-ccbfd0925e44",
   "metadata": {},
   "outputs": [
    {
     "data": {
      "image/png": "[encoded data removed]",
      "text/plain": [
       "Graphics object consisting of 2 graphics primitives"
      ]
     },
     "metadata": {},
     "output_type": "display_data"
    }
   ],
   "source": [
    "# Create a list of points to plot\n",
    "points = [(n, N(average_dyck_path_area(n, 2*n))) for n in range(8)]  # Calculate points for average_dyck_path_area\n",
    "points2 = [(n, N(asymp(n, 2))) for n in range(8)]  # Calculate points for asymp\n",
    "\n",
    "# Plot the points\n",
    "p1 = list_plot(points, color='blue', legend_label='average_dyck_path_area(2*n, n)')\n",
    "p2 = list_plot(points2, color='red', legend_label='asymp(n, 2)')\n",
    "show(p1 + p2)"
   ]
  },
  {
   "cell_type": "code",
   "execution_count": 1,
   "id": "4c217aa1-98d8-4b8b-913a-adc9e67b72c9",
   "metadata": {},
   "outputs": [
    {
     "data": {
      "text/html": [
       "<html>\\(\\displaystyle {\\sum_{k=0}^{n} -\\frac{k \\binom{-{\\left(k - n - 1\\right)} s - k + n - 1}{-k + n} \\binom{k s + k + 1}{k}}{k^{2} - {\\left(k + 1\\right)} n + {\\left(k^{2} - k n - k\\right)} s - 1}}\\)</html>"
      ],
      "text/latex": [
       "$\\displaystyle {\\sum_{k=0}^{n} -\\frac{k \\binom{-{\\left(k - n - 1\\right)} s - k + n - 1}{-k + n} \\binom{k s + k + 1}{k}}{k^{2} - {\\left(k + 1\\right)} n + {\\left(k^{2} - k n - k\\right)} s - 1}}$"
      ],
      "text/plain": [
       "sum(-k*binomial(-(k - n - 1)*s - k + n - 1, -k + n)*binomial(k*s + k + 1, k)/(k^2 - (k + 1)*n + (k^2 - k*n - k)*s - 1), k, 0, n)"
      ]
     },
     "metadata": {},
     "output_type": "display_data"
    }
   ],
   "source": [
    "# Define the variables\n",
    "var('k n s')\n",
    "\n",
    "# Define the function F_{s+1}(n)\n",
    "def F(s, n):\n",
    "    return 1/((s+1)*n + 1) * binomial((s+1)*n + 1, n)\n",
    "\n",
    "# Define the sum expression with the F function included\n",
    "sum_expression = sum(k * F(s, k) / (n + 1 - k) * binomial((s+1)*(n + 1 - k) - 2, n - k), k, 0, n)\n",
    "\n",
    "# Display the sum expression\n",
    "show(sum_expression)\n"
   ]
  },
  {
   "cell_type": "code",
   "execution_count": 1,
   "id": "70b2f6ce-b4f6-4080-bbb7-e3c684253f47",
   "metadata": {},
   "outputs": [
    {
     "data": {
      "text/html": [
       "<html>\\(\\displaystyle \\frac{x^{19} \\binom{{\\left(n + 1\\right)} {\\left(s + 1\\right)} - 2}{n}}{n + 1} + \\frac{x^{18} \\binom{{\\left(n + 1\\right)} {\\left(s + 1\\right)} - 2}{n}}{n + 1} + \\frac{x^{17} \\binom{{\\left(n + 1\\right)} {\\left(s + 1\\right)} - 2}{n}}{n + 1} + \\frac{x^{16} \\binom{{\\left(n + 1\\right)} {\\left(s + 1\\right)} - 2}{n}}{n + 1} + \\frac{x^{15} \\binom{{\\left(n + 1\\right)} {\\left(s + 1\\right)} - 2}{n}}{n + 1} + \\frac{x^{14} \\binom{{\\left(n + 1\\right)} {\\left(s + 1\\right)} - 2}{n}}{n + 1} + \\frac{x^{13} \\binom{{\\left(n + 1\\right)} {\\left(s + 1\\right)} - 2}{n}}{n + 1} + \\frac{x^{12} \\binom{{\\left(n + 1\\right)} {\\left(s + 1\\right)} - 2}{n}}{n + 1} + \\frac{x^{11} \\binom{{\\left(n + 1\\right)} {\\left(s + 1\\right)} - 2}{n}}{n + 1} + \\frac{x^{10} \\binom{{\\left(n + 1\\right)} {\\left(s + 1\\right)} - 2}{n}}{n + 1} + \\frac{x^{9} \\binom{{\\left(n + 1\\right)} {\\left(s + 1\\right)} - 2}{n}}{n + 1} + \\frac{x^{8} \\binom{{\\left(n + 1\\right)} {\\left(s + 1\\right)} - 2}{n}}{n + 1} + \\frac{x^{7} \\binom{{\\left(n + 1\\right)} {\\left(s + 1\\right)} - 2}{n}}{n + 1} + \\frac{x^{6} \\binom{{\\left(n + 1\\right)} {\\left(s + 1\\right)} - 2}{n}}{n + 1} + \\frac{x^{5} \\binom{{\\left(n + 1\\right)} {\\left(s + 1\\right)} - 2}{n}}{n + 1} + \\frac{x^{4} \\binom{{\\left(n + 1\\right)} {\\left(s + 1\\right)} - 2}{n}}{n + 1} + \\frac{x^{3} \\binom{{\\left(n + 1\\right)} {\\left(s + 1\\right)} - 2}{n}}{n + 1} + \\frac{x^{2} \\binom{{\\left(n + 1\\right)} {\\left(s + 1\\right)} - 2}{n}}{n + 1} + \\frac{x \\binom{{\\left(n + 1\\right)} {\\left(s + 1\\right)} - 2}{n}}{n + 1} + \\frac{\\binom{{\\left(n + 1\\right)} {\\left(s + 1\\right)} - 2}{n}}{n + 1}\\)</html>"
      ],
      "text/latex": [
       "$\\displaystyle \\frac{x^{19} \\binom{{\\left(n + 1\\right)} {\\left(s + 1\\right)} - 2}{n}}{n + 1} + \\frac{x^{18} \\binom{{\\left(n + 1\\right)} {\\left(s + 1\\right)} - 2}{n}}{n + 1} + \\frac{x^{17} \\binom{{\\left(n + 1\\right)} {\\left(s + 1\\right)} - 2}{n}}{n + 1} + \\frac{x^{16} \\binom{{\\left(n + 1\\right)} {\\left(s + 1\\right)} - 2}{n}}{n + 1} + \\frac{x^{15} \\binom{{\\left(n + 1\\right)} {\\left(s + 1\\right)} - 2}{n}}{n + 1} + \\frac{x^{14} \\binom{{\\left(n + 1\\right)} {\\left(s + 1\\right)} - 2}{n}}{n + 1} + \\frac{x^{13} \\binom{{\\left(n + 1\\right)} {\\left(s + 1\\right)} - 2}{n}}{n + 1} + \\frac{x^{12} \\binom{{\\left(n + 1\\right)} {\\left(s + 1\\right)} - 2}{n}}{n + 1} + \\frac{x^{11} \\binom{{\\left(n + 1\\right)} {\\left(s + 1\\right)} - 2}{n}}{n + 1} + \\frac{x^{10} \\binom{{\\left(n + 1\\right)} {\\left(s + 1\\right)} - 2}{n}}{n + 1} + \\frac{x^{9} \\binom{{\\left(n + 1\\right)} {\\left(s + 1\\right)} - 2}{n}}{n + 1} + \\frac{x^{8} \\binom{{\\left(n + 1\\right)} {\\left(s + 1\\right)} - 2}{n}}{n + 1} + \\frac{x^{7} \\binom{{\\left(n + 1\\right)} {\\left(s + 1\\right)} - 2}{n}}{n + 1} + \\frac{x^{6} \\binom{{\\left(n + 1\\right)} {\\left(s + 1\\right)} - 2}{n}}{n + 1} + \\frac{x^{5} \\binom{{\\left(n + 1\\right)} {\\left(s + 1\\right)} - 2}{n}}{n + 1} + \\frac{x^{4} \\binom{{\\left(n + 1\\right)} {\\left(s + 1\\right)} - 2}{n}}{n + 1} + \\frac{x^{3} \\binom{{\\left(n + 1\\right)} {\\left(s + 1\\right)} - 2}{n}}{n + 1} + \\frac{x^{2} \\binom{{\\left(n + 1\\right)} {\\left(s + 1\\right)} - 2}{n}}{n + 1} + \\frac{x \\binom{{\\left(n + 1\\right)} {\\left(s + 1\\right)} - 2}{n}}{n + 1} + \\frac{\\binom{{\\left(n + 1\\right)} {\\left(s + 1\\right)} - 2}{n}}{n + 1}$"
      ],
      "text/plain": [
       "x^19*binomial((n + 1)*(s + 1) - 2, n)/(n + 1) + x^18*binomial((n + 1)*(s + 1) - 2, n)/(n + 1) + x^17*binomial((n + 1)*(s + 1) - 2, n)/(n + 1) + x^16*binomial((n + 1)*(s + 1) - 2, n)/(n + 1) + x^15*binomial((n + 1)*(s + 1) - 2, n)/(n + 1) + x^14*binomial((n + 1)*(s + 1) - 2, n)/(n + 1) + x^13*binomial((n + 1)*(s + 1) - 2, n)/(n + 1) + x^12*binomial((n + 1)*(s + 1) - 2, n)/(n + 1) + x^11*binomial((n + 1)*(s + 1) - 2, n)/(n + 1) + x^10*binomial((n + 1)*(s + 1) - 2, n)/(n + 1) + x^9*binomial((n + 1)*(s + 1) - 2, n)/(n + 1) + x^8*binomial((n + 1)*(s + 1) - 2, n)/(n + 1) + x^7*binomial((n + 1)*(s + 1) - 2, n)/(n + 1) + x^6*binomial((n + 1)*(s + 1) - 2, n)/(n + 1) + x^5*binomial((n + 1)*(s + 1) - 2, n)/(n + 1) + x^4*binomial((n + 1)*(s + 1) - 2, n)/(n + 1) + x^3*binomial((n + 1)*(s + 1) - 2, n)/(n + 1) + x^2*binomial((n + 1)*(s + 1) - 2, n)/(n + 1) + x*binomial((n + 1)*(s + 1) - 2, n)/(n + 1) + binomial((n + 1)*(s + 1) - 2, n)/(n + 1)"
      ]
     },
     "metadata": {},
     "output_type": "display_data"
    }
   ],
   "source": [
    "# Define the variables\n",
    "var('n s x')\n",
    "\n",
    "# Define the nth term of the sequence\n",
    "r_n = 1/(n+1) * binomial((s+1)*(n+1)-2, n)\n",
    "\n",
    "# Find the generating function for the sequence\n",
    "R = sum(r_n * x^n for n in range(20))  # compute the first 20 terms for the example\n",
    "\n",
    "# Try to find a pattern or closed-form of the generating function\n",
    "# Note: This is an experimental approach since there might not be a straightforward closed-form\n",
    "# You may also use the guess() function from Sage, or other pattern recognition methods\n",
    "\n",
    "show(R)\n"
   ]
  },
  {
   "cell_type": "code",
   "execution_count": 2,
   "id": "02cb4fe7-302d-402d-8747-25d08f994b9d",
   "metadata": {},
   "outputs": [
    {
     "ename": "ModuleNotFoundError",
     "evalue": "No module named 'sage.combinat.guess'",
     "output_type": "error",
     "traceback": [
      "\u001b[0;31m---------------------------------------------------------------------------\u001b[0m",
      "\u001b[0;31mModuleNotFoundError\u001b[0m                       Traceback (most recent call last)",
      "Cell \u001b[0;32mIn[2], line 1\u001b[0m\n\u001b[0;32m----> 1\u001b[0m \u001b[38;5;28;01mfrom\u001b[39;00m \u001b[38;5;21;01msage\u001b[39;00m\u001b[38;5;21;01m.\u001b[39;00m\u001b[38;5;21;01mcombinat\u001b[39;00m\u001b[38;5;21;01m.\u001b[39;00m\u001b[38;5;21;01mguess\u001b[39;00m \u001b[38;5;28;01mimport\u001b[39;00m find_genfunc\n\u001b[1;32m      3\u001b[0m \u001b[38;5;66;03m# Define the variables\u001b[39;00m\n\u001b[1;32m      4\u001b[0m var(\u001b[38;5;124m'\u001b[39m\u001b[38;5;124mn s x\u001b[39m\u001b[38;5;124m'\u001b[39m)\n",
      "\u001b[0;31mModuleNotFoundError\u001b[0m: No module named 'sage.combinat.guess'"
     ]
    }
   ],
   "source": [
    "from sage.combinat.guess import find_genfunc\n",
    "\n",
    "# Define the variables\n",
    "var('n s x')\n",
    "\n",
    "# Define the nth term of the sequence\n",
    "r_n = lambda n: 1/(optionally) extra files to make your life easier, such as a start/stop script(n+1) * binomial((s+1)*(n+1)-2, n)\n",
    "\n",
    "# Generate a list of the first few terms of the sequence\n",
    "terms = [r_n(n) for n in range(1, 50)]  # Adjust the range as necessary\n",
    "\n",
    "# Use the find_genfunc function to guess a generating function\n",
    "R_guess = find_genfunc(terms, x)\n",
    "\n",
    "# Show the guessed generating function\n",
    "show(R_guess)"
   ]
  },
  {
   "cell_type": "code",
   "execution_count": 4,
   "id": "041b7e14-a4a4-4c0f-8ccf-16cc27920da2",
   "metadata": {},
   "outputs": [
    {
     "data": {
      "text/plain": [
       "[1, 9, 126, 2109, 38916, 763686, 15636192, 330237765, 7141879503, 157366449604]"
      ]
     },
     "execution_count": 4,
     "metadata": {},
     "output_type": "execute_result"
    }
   ],
   "source": [
    "# Define the necessary variables and functions in SageMath (Python syntax)\n",
    "\n",
    "s = 9\n",
    "\n",
    "\n",
    "\n",
    "def sequence_term(n):\n",
    "\n",
    "    return 1/(n+1) * binomial((s+1)*(n+1)-2, n)\n",
    "\n",
    "\n",
    "\n",
    "# Compute the first few terms of the sequence\n",
    "\n",
    "sequence_values = [sequence_term(n) for n in range(10)]  # For n = 0 to 9\n",
    "\n",
    "sequence_values"
   ]
  },
  {
   "cell_type": "code",
   "execution_count": 6,
   "id": "04d1dd7c-423a-4e44-a590-7e9c21a91652",
   "metadata": {},
   "outputs": [
    {
     "data": {
      "text/plain": [
       "[1, 9, 126, 2109, 38916, 763686, 15636192, 330237765, 7141879503, 157366449604]"
      ]
     },
     "execution_count": 6,
     "metadata": {},
     "output_type": "execute_result"
    }
   ],
   "source": [
    "\n",
    "s = 9\n",
    "\n",
    "\n",
    "\n",
    "def new_sequence_term(n):\n",
    "\n",
    "    return s/((s+1)*n+s) * binomial((s+1)*n+s, n)\n",
    "\n",
    "\n",
    "\n",
    "# Compute the first few terms of the sequence\n",
    "\n",
    "sequence_values = [new_sequence_term(n) for n in range(10)]  # For n = 0 to 9\n",
    "\n",
    "sequence_values"
   ]
  },
  {
   "cell_type": "code",
   "execution_count": null,
   "id": "1010aa39-d482-47fb-a6fc-6264cc450c20",
   "metadata": {},
   "outputs": [],
   "source": []
  }
 ],
 "metadata": {
  "kernelspec": {
   "display_name": "SageMath 10.3",
   "language": "sage",
   "name": "sagemath"
  },
  "language_info": {
   "codemirror_mode": {
    "name": "ipython",
    "version": 3
   },
   "file_extension": ".py",
   "mimetype": "text/x-python",
   "name": "python",
   "nbconvert_exporter": "python",
   "pygments_lexer": "ipython3",
   "version": "3.11.8"
  }
 },
 "nbformat": 4,
 "nbformat_minor": 5
}
