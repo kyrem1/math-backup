{
 "cells": [
  {
   "cell_type": "code",
   "execution_count": 1,
   "id": "5fe8841a-bc09-4802-92f8-cdc088f6ecae",
   "metadata": {},
   "outputs": [],
   "source": [
    "# Function to generate all rectangular Dyck paths for a given m x n rectangle\n",
    "def rectangular_dyck_paths(m, n):\n",
    "    if m == 0 and n == 0:\n",
    "        return [[]]\n",
    "    if m==0 and n>0:\n",
    "        return [['R'] * n]\n",
    "    if m>0 and n==0:\n",
    "        return [['U'] * m]\n",
    "\n",
    "    paths = []\n",
    "    if m > 0:\n",
    "        # Add a step in the vertical direction and recursively generate the rest of the path\n",
    "        for path in rectangular_dyck_paths(m - 1, n):\n",
    "            paths.append(['U'] + path)\n",
    "    if n > 0 and m < n:\n",
    "        # Add a step in the horizontal direction and recursively generate the rest of the path\n",
    "        for path in rectangular_dyck_paths(m, n - 1):\n",
    "            paths.append(['R'] + path)\n",
    "\n",
    "    return paths\n",
    "\n",
    "\n",
    "# Function to compute the area under a rectangular Dyck path\n",
    "def path_area(path, m, n):\n",
    "    area = 0\n",
    "    vertical_steps = 0\n",
    "    for step in path:\n",
    "        if step == 'U':\n",
    "            vertical_steps += 1\n",
    "        elif step == 'R':\n",
    "            area += vertical_steps\n",
    "    \n",
    "    return area-(m*n)/2\n",
    "\n",
    "# Main function to compute average area under Dyck paths for a given rectangle size\n",
    "def total_dyck_path_area(m, n):\n",
    "    paths = rectangular_dyck_paths(m, n)\n",
    "    total_area = 0\n",
    "    for path in paths:\n",
    "        total_area += path_area(path, m, n)\n",
    "    \n",
    "    return total_area\n",
    "\n",
    "def average_dyck_path_area(m,n):\n",
    "    paths = rectangular_dyck_paths(m, n)\n",
    "    total_area = 0\n",
    "    for path in paths:\n",
    "        total_area += path_area(path, m, n)\n",
    "    return total_area/len(paths)\n",
    "\n"
   ]
  },
  {
   "cell_type": "code",
   "execution_count": null,
   "id": "d122820a-986c-4eb1-90be-4d39e74287c4",
   "metadata": {},
   "outputs": [],
   "source": [
    "for n in range(1,8):\n",
    "    for k in range(1, 8):\n",
    "        "
   ]
  },
  {
   "cell_type": "code",
   "execution_count": 52,
   "id": "899123ad-7f5e-499f-990e-7c83c300ee71",
   "metadata": {},
   "outputs": [
    {
     "name": "stdout",
     "output_type": "stream",
     "text": [
      "[['U', 'U', 'R', 'R', 'R', 'R'], ['U', 'R', 'U', 'R', 'R', 'R'], ['U', 'R', 'R', 'U', 'R', 'R'], ['U', 'R', 'R', 'R', 'U', 'R'], ['R', 'U', 'U', 'R', 'R', 'R'], ['R', 'U', 'R', 'U', 'R', 'R'], ['R', 'U', 'R', 'R', 'U', 'R'], ['R', 'R', 'U', 'U', 'R', 'R'], ['R', 'R', 'U', 'R', 'U', 'R']]\n"
     ]
    }
   ],
   "source": [
    "# Example usage for a 3x3 rectangl\n",
    "print(rectangular_dyck_paths(2,4))"
   ]
  },
  {
   "cell_type": "code",
   "execution_count": 2,
   "id": "dd9fba37-75d2-4fef-9e13-5c5c909cd4cb",
   "metadata": {},
   "outputs": [
    {
     "name": "stdout",
     "output_type": "stream",
     "text": [
      "4\n"
     ]
    }
   ],
   "source": [
    "print(path_area(['U', 'U', 'R', 'R', 'R', 'R'],2,4))"
   ]
  },
  {
   "cell_type": "code",
   "execution_count": 40,
   "id": "d75d6961-b68b-4e96-97ae-bc1451c81931",
   "metadata": {},
   "outputs": [
    {
     "name": "stdout",
     "output_type": "stream",
     "text": [
      "     _\n",
      "   _| \n",
      " _|  .\n",
      "|  . .\n",
      "\n",
      "   ___\n",
      "  | x \n",
      " _|  .\n",
      "|  . .\n",
      "\n",
      "     _\n",
      " ___| \n",
      "| x  .\n",
      "|  . .\n",
      "\n"
     ]
    }
   ],
   "source": [
    "from sage.combinat.dyck_word import DyckWords\n",
    "\n",
    "# Function to display Dyck paths\n",
    "def display_dyck_paths(size, count=3):\n",
    "    # Get Dyck words of the specified size\n",
    "    dyck_words = DyckWords(size)\n",
    "    \n",
    "    # Iterate over the first few Dyck words and plot them\n",
    "    for dyck_word in dyck_words[:count]:\n",
    "        dyck_word.pretty_print()\n",
    "\n",
    "# Example usage for Dyck paths of size 3\n",
    "display_dyck_paths(3)\n"
   ]
  },
  {
   "cell_type": "code",
   "execution_count": 4,
   "id": "8e2d9fd1-77ac-4430-bc74-9431d6163fb7",
   "metadata": {},
   "outputs": [
    {
     "name": "stdout",
     "output_type": "stream",
     "text": [
      "0\n",
      "1/2\n",
      "3\n",
      "29/2\n",
      "65\n",
      "281\n"
     ]
    }
   ],
   "source": [
    "areas = []\n",
    "for n in range(6):\n",
    "    t = total_dyck_path_area(n,n)\n",
    "    areas.append(t)\n",
    "    print(t)"
   ]
  },
  {
   "cell_type": "code",
   "execution_count": 43,
   "id": "d619a724-050e-4bae-a113-d7fe4b971caa",
   "metadata": {},
   "outputs": [
    {
     "data": {
      "text/plain": [
       "[]"
      ]
     },
     "execution_count": 43,
     "metadata": {},
     "output_type": "execute_result"
    }
   ],
   "source": [
    "fricas.guess('[1,2,3,5]')"
   ]
  },
  {
   "cell_type": "code",
   "execution_count": 5,
   "id": "e262a202-9980-49b0-a98d-3b43b2c20c35",
   "metadata": {},
   "outputs": [],
   "source": [
    "def Y(n,s):\n",
    "    sum = 0\n",
    "    for k in range(n+1):\n",
    "        sum += binomial(s*k,k) * binomial(s*(n-k), n-k)\n",
    "    return sum\n",
    "\n",
    "def T(n,s):\n",
    "    return binomial(s*n,n) / ((s-1)*n+1)\n",
    "\n",
    "def A(n,s):\n",
    "    return Y(n+1,s) / 2 - ((2*s - 3)*n +2*s -2) * T(n+1,s) / 2"
   ]
  },
  {
   "cell_type": "code",
   "execution_count": 9,
   "id": "2fc93c10-d9ee-45f4-816e-a322d6c14601",
   "metadata": {},
   "outputs": [
    {
     "name": "stdout",
     "output_type": "stream",
     "text": [
      "1 vs. 1\n",
      "9 vs. 5\n",
      "69 vs. 22\n",
      "502 vs. 93\n",
      "3564 vs. 386\n"
     ]
    }
   ],
   "source": [
    "for n in range(5):\n",
    "    print(f'{A(n,3)} vs. {explicit_total(n)+4^n}')"
   ]
  },
  {
   "cell_type": "code",
   "execution_count": 6,
   "id": "c4b7637c-3d4b-450b-9a83-d9b49d1fac14",
   "metadata": {},
   "outputs": [],
   "source": [
    "def explicit_total(n):\n",
    "    return 4^n - binomial(2*n+1,n)"
   ]
  },
  {
   "cell_type": "code",
   "execution_count": null,
   "id": "8fd4a902-5973-48ec-b8e4-7ae37e622c2d",
   "metadata": {},
   "outputs": [],
   "source": [
    "for n in range(5):\n",
    "    print(f'{binomial(2*n+2, n+1)} vs. {binomial(2*n+1,n)}')"
   ]
  },
  {
   "cell_type": "code",
   "execution_count": 7,
   "id": "f29bf13e-35a9-496f-bea9-7fae3d6864b7",
   "metadata": {},
   "outputs": [],
   "source": [
    "def asymp(n, a):\n",
    "    expr = n^(3/2) * sqrt(2*pi*a*(a+1))/4\n",
    "    return N(expr.subs({n: n, a: a}))"
   ]
  },
  {
   "cell_type": "code",
   "execution_count": 28,
   "id": "bfba8cff-7003-4a2a-bf95-64420d785e23",
   "metadata": {},
   "outputs": [
    {
     "name": "stdout",
     "output_type": "stream",
     "text": [
      "0.000000000000000 vs 0.000000000000000\n",
      "2.00000000000000 vs 1.53499006191973\n",
      "5.33333333333333 vs 4.34160752734961\n",
      "9.33333333333333 vs 7.97604232907482\n",
      "13.7454545454545 vs 12.2799204953579\n",
      "18.4395604395604 vs 17.1617106161957\n",
      "23.3389355742297 vs 22.5596544716790\n",
      "28.3942208462332 vs 28.4284137815667\n"
     ]
    }
   ],
   "source": [
    "for n in range(8):\n",
    "    print(f'{4*N(average_dyck_path_area(n,2*n))} vs {asymp(n,2)}')"
   ]
  },
  {
   "cell_type": "code",
   "execution_count": 8,
   "id": "8d799e59-097e-45a9-8d3d-ccbfd0925e44",
   "metadata": {},
   "outputs": [
    {
     "data": {
      "image/png": "[encoded data removed]",
      "text/plain": [
       "Graphics object consisting of 2 graphics primitives"
      ]
     },
     "metadata": {},
     "output_type": "display_data"
    }
   ],
   "source": [
    "# Create a list of points to plot\n",
    "points = [(n, N(average_dyck_path_area(n, 2*n))) for n in range(8)]  # Calculate points for average_dyck_path_area\n",
    "points2 = [(n, N(asymp(n, 2))) for n in range(8)]  # Calculate points for asymp\n",
    "\n",
    "# Plot the points\n",
    "p1 = list_plot(points, color='blue', legend_label='average_dyck_path_area(2*n, n)')\n",
    "p2 = list_plot(points2, color='red', legend_label='asymp(n, 2)')\n",
    "show(p1 + p2)"
   ]
  },
  {
   "cell_type": "code",
   "execution_count": 1,
   "id": "4c217aa1-98d8-4b8b-913a-adc9e67b72c9",
   "metadata": {},
   "outputs": [
    {
     "data": {
      "text/html": [
       "<html>\\(\\displaystyle {\\sum_{k=0}^{n} -\\frac{k \\binom{-{\\left(k - n - 1\\right)} s - k + n - 1}{-k + n} \\binom{k s + k + 1}{k}}{k^{2} - {\\left(k + 1\\right)} n + {\\left(k^{2} - k n - k\\right)} s - 1}}\\)</html>"
      ],
      "text/latex": [
       "$\\displaystyle {\\sum_{k=0}^{n} -\\frac{k \\binom{-{\\left(k - n - 1\\right)} s - k + n - 1}{-k + n} \\binom{k s + k + 1}{k}}{k^{2} - {\\left(k + 1\\right)} n + {\\left(k^{2} - k n - k\\right)} s - 1}}$"
      ],
      "text/plain": [
       "sum(-k*binomial(-(k - n - 1)*s - k + n - 1, -k + n)*binomial(k*s + k + 1, k)/(k^2 - (k + 1)*n + (k^2 - k*n - k)*s - 1), k, 0, n)"
      ]
     },
     "metadata": {},
     "output_type": "display_data"
    }
   ],
   "source": [
    "# Define the variables\n",
    "var('k n s')\n",
    "\n",
    "# Define the function F_{s+1}(n)\n",
    "def F(s, n):\n",
    "    return 1/((s+1)*n + 1) * binomial((s+1)*n + 1, n)\n",
    "\n",
    "# Define the sum expression with the F function included\n",
    "sum_expression = sum(k * F(s, k) / (n + 1 - k) * binomial((s+1)*(n + 1 - k) - 2, n - k), k, 0, n)\n",
    "\n",
    "# Display the sum expression\n",
    "show(sum_expression)\n"
   ]
  },
  {
   "cell_type": "code",
   "execution_count": 1,
   "id": "70b2f6ce-b4f6-4080-bbb7-e3c684253f47",
   "metadata": {},
   "outputs": [
    {
     "data": {
      "text/html": [
       "<html>\\(\\displaystyle \\frac{x^{19} \\binom{{\\left(n + 1\\right)} {\\left(s + 1\\right)} - 2}{n}}{n + 1} + \\frac{x^{18} \\binom{{\\left(n + 1\\right)} {\\left(s + 1\\right)} - 2}{n}}{n + 1} + \\frac{x^{17} \\binom{{\\left(n + 1\\right)} {\\left(s + 1\\right)} - 2}{n}}{n + 1} + \\frac{x^{16} \\binom{{\\left(n + 1\\right)} {\\left(s + 1\\right)} - 2}{n}}{n + 1} + \\frac{x^{15} \\binom{{\\left(n + 1\\right)} {\\left(s + 1\\right)} - 2}{n}}{n + 1} + \\frac{x^{14} \\binom{{\\left(n + 1\\right)} {\\left(s + 1\\right)} - 2}{n}}{n + 1} + \\frac{x^{13} \\binom{{\\left(n + 1\\right)} {\\left(s + 1\\right)} - 2}{n}}{n + 1} + \\frac{x^{12} \\binom{{\\left(n + 1\\right)} {\\left(s + 1\\right)} - 2}{n}}{n + 1} + \\frac{x^{11} \\binom{{\\left(n + 1\\right)} {\\left(s + 1\\right)} - 2}{n}}{n + 1} + \\frac{x^{10} \\binom{{\\left(n + 1\\right)} {\\left(s + 1\\right)} - 2}{n}}{n + 1} + \\frac{x^{9} \\binom{{\\left(n + 1\\right)} {\\left(s + 1\\right)} - 2}{n}}{n + 1} + \\frac{x^{8} \\binom{{\\left(n + 1\\right)} {\\left(s + 1\\right)} - 2}{n}}{n + 1} + \\frac{x^{7} \\binom{{\\left(n + 1\\right)} {\\left(s + 1\\right)} - 2}{n}}{n + 1} + \\frac{x^{6} \\binom{{\\left(n + 1\\right)} {\\left(s + 1\\right)} - 2}{n}}{n + 1} + \\frac{x^{5} \\binom{{\\left(n + 1\\right)} {\\left(s + 1\\right)} - 2}{n}}{n + 1} + \\frac{x^{4} \\binom{{\\left(n + 1\\right)} {\\left(s + 1\\right)} - 2}{n}}{n + 1} + \\frac{x^{3} \\binom{{\\left(n + 1\\right)} {\\left(s + 1\\right)} - 2}{n}}{n + 1} + \\frac{x^{2} \\binom{{\\left(n + 1\\right)} {\\left(s + 1\\right)} - 2}{n}}{n + 1} + \\frac{x \\binom{{\\left(n + 1\\right)} {\\left(s + 1\\right)} - 2}{n}}{n + 1} + \\frac{\\binom{{\\left(n + 1\\right)} {\\left(s + 1\\right)} - 2}{n}}{n + 1}\\)</html>"
      ],
      "text/latex": [
       "$\\displaystyle \\frac{x^{19} \\binom{{\\left(n + 1\\right)} {\\left(s + 1\\right)} - 2}{n}}{n + 1} + \\frac{x^{18} \\binom{{\\left(n + 1\\right)} {\\left(s + 1\\right)} - 2}{n}}{n + 1} + \\frac{x^{17} \\binom{{\\left(n + 1\\right)} {\\left(s + 1\\right)} - 2}{n}}{n + 1} + \\frac{x^{16} \\binom{{\\left(n + 1\\right)} {\\left(s + 1\\right)} - 2}{n}}{n + 1} + \\frac{x^{15} \\binom{{\\left(n + 1\\right)} {\\left(s + 1\\right)} - 2}{n}}{n + 1} + \\frac{x^{14} \\binom{{\\left(n + 1\\right)} {\\left(s + 1\\right)} - 2}{n}}{n + 1} + \\frac{x^{13} \\binom{{\\left(n + 1\\right)} {\\left(s + 1\\right)} - 2}{n}}{n + 1} + \\frac{x^{12} \\binom{{\\left(n + 1\\right)} {\\left(s + 1\\right)} - 2}{n}}{n + 1} + \\frac{x^{11} \\binom{{\\left(n + 1\\right)} {\\left(s + 1\\right)} - 2}{n}}{n + 1} + \\frac{x^{10} \\binom{{\\left(n + 1\\right)} {\\left(s + 1\\right)} - 2}{n}}{n + 1} + \\frac{x^{9} \\binom{{\\left(n + 1\\right)} {\\left(s + 1\\right)} - 2}{n}}{n + 1} + \\frac{x^{8} \\binom{{\\left(n + 1\\right)} {\\left(s + 1\\right)} - 2}{n}}{n + 1} + \\frac{x^{7} \\binom{{\\left(n + 1\\right)} {\\left(s + 1\\right)} - 2}{n}}{n + 1} + \\frac{x^{6} \\binom{{\\left(n + 1\\right)} {\\left(s + 1\\right)} - 2}{n}}{n + 1} + \\frac{x^{5} \\binom{{\\left(n + 1\\right)} {\\left(s + 1\\right)} - 2}{n}}{n + 1} + \\frac{x^{4} \\binom{{\\left(n + 1\\right)} {\\left(s + 1\\right)} - 2}{n}}{n + 1} + \\frac{x^{3} \\binom{{\\left(n + 1\\right)} {\\left(s + 1\\right)} - 2}{n}}{n + 1} + \\frac{x^{2} \\binom{{\\left(n + 1\\right)} {\\left(s + 1\\right)} - 2}{n}}{n + 1} + \\frac{x \\binom{{\\left(n + 1\\right)} {\\left(s + 1\\right)} - 2}{n}}{n + 1} + \\frac{\\binom{{\\left(n + 1\\right)} {\\left(s + 1\\right)} - 2}{n}}{n + 1}$"
      ],
      "text/plain": [
       "x^19*binomial((n + 1)*(s + 1) - 2, n)/(n + 1) + x^18*binomial((n + 1)*(s + 1) - 2, n)/(n + 1) + x^17*binomial((n + 1)*(s + 1) - 2, n)/(n + 1) + x^16*binomial((n + 1)*(s + 1) - 2, n)/(n + 1) + x^15*binomial((n + 1)*(s + 1) - 2, n)/(n + 1) + x^14*binomial((n + 1)*(s + 1) - 2, n)/(n + 1) + x^13*binomial((n + 1)*(s + 1) - 2, n)/(n + 1) + x^12*binomial((n + 1)*(s + 1) - 2, n)/(n + 1) + x^11*binomial((n + 1)*(s + 1) - 2, n)/(n + 1) + x^10*binomial((n + 1)*(s + 1) - 2, n)/(n + 1) + x^9*binomial((n + 1)*(s + 1) - 2, n)/(n + 1) + x^8*binomial((n + 1)*(s + 1) - 2, n)/(n + 1) + x^7*binomial((n + 1)*(s + 1) - 2, n)/(n + 1) + x^6*binomial((n + 1)*(s + 1) - 2, n)/(n + 1) + x^5*binomial((n + 1)*(s + 1) - 2, n)/(n + 1) + x^4*binomial((n + 1)*(s + 1) - 2, n)/(n + 1) + x^3*binomial((n + 1)*(s + 1) - 2, n)/(n + 1) + x^2*binomial((n + 1)*(s + 1) - 2, n)/(n + 1) + x*binomial((n + 1)*(s + 1) - 2, n)/(n + 1) + binomial((n + 1)*(s + 1) - 2, n)/(n + 1)"
      ]
     },
     "metadata": {},
     "output_type": "display_data"
    }
   ],
   "source": [
    "# Define the variables\n",
    "var('n s x')\n",
    "\n",
    "# Define the nth term of the sequence\n",
    "r_n = 1/(n+1) * binomial((s+1)*(n+1)-2, n)\n",
    "\n",
    "# Find the generating function for the sequence\n",
    "R = sum(r_n * x^n for n in range(20))  # compute the first 20 terms for the example\n",
    "\n",
    "# Try to find a pattern or closed-form of the generating function\n",
    "# Note: This is an experimental approach since there might not be a straightforward closed-form\n",
    "# You may also use the guess() function from Sage, or other pattern recognition methods\n",
    "\n",
    "show(R)\n"
   ]
  },
  {
   "cell_type": "code",
   "execution_count": 2,
   "id": "02cb4fe7-302d-402d-8747-25d08f994b9d",
   "metadata": {},
   "outputs": [
    {
     "ename": "ModuleNotFoundError",
     "evalue": "No module named 'sage.combinat.guess'",
     "output_type": "error",
     "traceback": [
      "\u001b[0;31m---------------------------------------------------------------------------\u001b[0m",
      "\u001b[0;31mModuleNotFoundError\u001b[0m                       Traceback (most recent call last)",
      "Cell \u001b[0;32mIn[2], line 1\u001b[0m\n\u001b[0;32m----> 1\u001b[0m \u001b[38;5;28;01mfrom\u001b[39;00m \u001b[38;5;21;01msage\u001b[39;00m\u001b[38;5;21;01m.\u001b[39;00m\u001b[38;5;21;01mcombinat\u001b[39;00m\u001b[38;5;21;01m.\u001b[39;00m\u001b[38;5;21;01mguess\u001b[39;00m \u001b[38;5;28;01mimport\u001b[39;00m find_genfunc\n\u001b[1;32m      3\u001b[0m \u001b[38;5;66;03m# Define the variables\u001b[39;00m\n\u001b[1;32m      4\u001b[0m var(\u001b[38;5;124m'\u001b[39m\u001b[38;5;124mn s x\u001b[39m\u001b[38;5;124m'\u001b[39m)\n",
      "\u001b[0;31mModuleNotFoundError\u001b[0m: No module named 'sage.combinat.guess'"
     ]
    }
   ],
   "source": [
    "from sage.combinat.guess import find_genfunc\n",
    "\n",
    "# Define the variables\n",
    "var('n s x')\n",
    "\n",
    "# Define the nth term of the sequence\n",
    "r_n = lambda n: 1/(optionally) extra files to make your life easier, such as a start/stop script(n+1) * binomial((s+1)*(n+1)-2, n)\n",
    "\n",
    "# Generate a list of the first few terms of the sequence\n",
    "terms = [r_n(n) for n in range(1, 50)]  # Adjust the range as necessary\n",
    "\n",
    "# Use the find_genfunc function to guess a generating function\n",
    "R_guess = find_genfunc(terms, x)\n",
    "\n",
    "# Show the guessed generating function\n",
    "show(R_guess)"
   ]
  },
  {
   "cell_type": "code",
   "execution_count": 4,
   "id": "041b7e14-a4a4-4c0f-8ccf-16cc27920da2",
   "metadata": {},
   "outputs": [
    {
     "data": {
      "text/plain": [
       "[1, 9, 126, 2109, 38916, 763686, 15636192, 330237765, 7141879503, 157366449604]"
      ]
     },
     "execution_count": 4,
     "metadata": {},
     "output_type": "execute_result"
    }
   ],
   "source": [
    "# Define the necessary variables and functions in SageMath (Python syntax)\n",
    "\n",
    "s = 9\n",
    "\n",
    "\n",
    "\n",
    "def sequence_term(n):\n",
    "    return 1/(n+1) * binomial((s+1)*(n+1)-2, n)\n",
    "\n",
    "\n",
    "\n",
    "# Compute the first few terms of the sequence\n",
    "\n",
    "sequence_values = [sequence_term(n) for n in range(10)]  # For n = 0 to 9\n",
    "\n",
    "sequence_values"
   ]
  },
  {
   "cell_type": "code",
   "execution_count": 6,
   "id": "04d1dd7c-423a-4e44-a590-7e9c21a91652",
   "metadata": {},
   "outputs": [
    {
     "data": {
      "text/plain": [
       "[1, 9, 126, 2109, 38916, 763686, 15636192, 330237765, 7141879503, 157366449604]"
      ]
     },
     "execution_count": 6,
     "metadata": {},
     "output_type": "execute_result"
    }
   ],
   "source": [
    "\n",
    "s = 9\n",
    "\n",
    "\n",
    "\n",
    "def new_sequence_term(n):\n",
    "\n",
    "    return s/((s+1)*n+s) * binomial((s+1)*n+s, n)\n",
    "\n",
    "\n",
    "\n",
    "# Compute the first few terms of the sequence\n",
    "\n",
    "sequence_values = [new_sequence_term(n) for n in range(10)]  # For n = 0 to 9\n",
    "\n",
    "sequence_values"
   ]
  },
  {
   "cell_type": "code",
   "execution_count": 1,
   "id": "1010aa39-d482-47fb-a6fc-6264cc450c20",
   "metadata": {},
   "outputs": [],
   "source": [
    "var('s')\n",
    "L.<z> = LazyPowerSeriesRing(QQ)\n"
   ]
  },
  {
   "cell_type": "code",
   "execution_count": 5,
   "id": "7649c6be-bc44-4900-abf1-eab1b8801622",
   "metadata": {},
   "outputs": [],
   "source": [
    "F = L.undefined(valuation=0)\n",
    "F.define(1+z*F^3)"
   ]
  },
  {
   "cell_type": "code",
   "execution_count": 6,
   "id": "abc41903-35d1-41bc-aeb7-ac6e3b7adc1f",
   "metadata": {},
   "outputs": [
    {
     "data": {
      "text/plain": [
       "[1, 1, 3, 12, 55, 273, 1428, 7752, 43263, 246675, 1430715]"
      ]
     },
     "execution_count": 6,
     "metadata": {},
     "output_type": "execute_result"
    }
   ],
   "source": [
    "[F.coefficient(i) for i in range(11)]"
   ]
  },
  {
   "cell_type": "code",
   "execution_count": 5,
   "id": "21a3fd4e-5ff7-478f-84a3-807d26f0cdb4",
   "metadata": {},
   "outputs": [],
   "source": [
    "L.<z> = LazyPowerSeriesRing(QQ)\n",
    "F = L.undefined(valuation=0)\n",
    "F.define(1+z*F^3)\n",
    "A = L.undefined(valuation=0)\n",
    "A.define( ( ((z*F^3)/(1-3*z*F^2)) - F - ((z^2 * F^5)/(1-3*z*F^2))) * (1/(1-3*z*F^2)) ) "
   ]
  },
  {
   "cell_type": "code",
   "execution_count": 16,
   "id": "4975d3dd-5676-4b8f-aab8-aec94835fbb6",
   "metadata": {},
   "outputs": [
    {
     "data": {
      "text/plain": [
       "[-1, -3, -13, -62, -307, -1537, -7636, -36906, -168375, -680309, -1964997]"
      ]
     },
     "execution_count": 16,
     "metadata": {},
     "output_type": "execute_result"
    }
   ],
   "source": [
    "[A.coefficient(i) for i in range(11)]"
   ]
  },
  {
   "cell_type": "code",
   "execution_count": 20,
   "id": "33d03621-5dab-47fd-8207-6f4781da1682",
   "metadata": {},
   "outputs": [],
   "source": [
    "L.<z> = LazyPowerSeriesRing(QQ)\n",
    "f = L.undefined()\n",
    "f.define(1+z*f^3)\n",
    "B = L.undefined(valuation=0)\n",
    "B.define(z *(f.derivative()) + (3 / f)*(z* f.derivative())^2 ) "
   ]
  },
  {
   "cell_type": "code",
   "execution_count": 21,
   "id": "22e44b20-f5d8-4637-8fc6-846a7baac9f3",
   "metadata": {},
   "outputs": [
    {
     "data": {
      "text/plain": [
       "[0, 1, 9, 69, 502, 3564, 24960, 173325, 1196748, 8229849, 56427177]"
      ]
     },
     "execution_count": 21,
     "metadata": {},
     "output_type": "execute_result"
    }
   ],
   "source": [
    "[B.coefficient(i) for i in range(11)]"
   ]
  },
  {
   "cell_type": "code",
   "execution_count": 10,
   "id": "92ff9890-7e7e-4072-ad83-a4c9f8be2899",
   "metadata": {},
   "outputs": [
    {
     "data": {
      "text/plain": [
       "1 + 4*z + 24*z^2 + 153*z^3 + 997*z^4 + 6567*z^5 + 43524*z^6 + O(z^7)"
      ]
     },
     "execution_count": 10,
     "metadata": {},
     "output_type": "execute_result"
    }
   ],
   "source": [
    "B"
   ]
  },
  {
   "cell_type": "code",
   "execution_count": 20,
   "id": "61b0f791-7107-4533-86d9-a15637b5fe8c",
   "metadata": {},
   "outputs": [
    {
     "data": {
      "image/png": "[encoded data removed]",
      "text/plain": [
       "Graphics object consisting of 2 graphics primitives"
      ]
     },
     "metadata": {},
     "output_type": "display_data"
    }
   ],
   "source": [
    "points = [(n, N(total_dyck_path_area(2*n, n))) for n in range(8)]  # Calculate points for average_dyck_path_area\n",
    "points2 = [(n, B.coefficient(n)) for n in range(8)]  # Calculate points for asymp\n",
    "\n",
    "# Plot the points\n",
    "p1 = list_plot(points, color='blue', legend_label='total compute')\n",
    "p2 = list_plot(points2, color='red', legend_label='total gfunc')\n",
    "show(p1 + p2)"
   ]
  },
  {
   "cell_type": "code",
   "execution_count": 90,
   "id": "b38a4579-6979-418e-b629-89f6f09ef755",
   "metadata": {},
   "outputs": [],
   "source": [
    "def f(s, n, p=1):\n",
    "    return 1/((s-1)*n+1)* binomial(s*n,n)\n",
    "\n"
   ]
  },
  {
   "cell_type": "code",
   "execution_count": 94,
   "id": "26b8f9ad-ac2f-4fa2-ad2e-aaea7f745689",
   "metadata": {},
   "outputs": [],
   "source": [
    "def area(s, n):\n",
    "    sum1 = 0\n",
    "    for j in range(n+1): \n",
    "        sum1+= j*(n-j) *f(s+1,j) * f(s+1,n-j)\n",
    "    sum2 = 0\n",
    "    for j in range(n):\n",
    "        inner = 0\n",
    "        for i in range(j+1):\n",
    "            inner+= i * (j-i) * f(s+1, i)*f(s+1,j-i) * binomial((s+1)*(n-j)-2, n-1-j) / (n-j)\n",
    "        sum2+= inner\n",
    "    \n",
    "\n",
    "    return (s/2)*n * f(s+1, n) + binomial(s+1, 2) * (sum1 - sum2)"
   ]
  },
  {
   "cell_type": "code",
   "execution_count": 95,
   "id": "cce30c5d-4a3d-4dcd-8105-982669d40b75",
   "metadata": {},
   "outputs": [
    {
     "name": "stdout",
     "output_type": "stream",
     "text": [
      "9\n"
     ]
    }
   ],
   "source": [
    "print(area(s=2, n=2))"
   ]
  },
  {
   "cell_type": "code",
   "execution_count": 96,
   "id": "dde3a55e-e4a8-4795-85ee-768c69cdfe02",
   "metadata": {},
   "outputs": [
    {
     "name": "stdout",
     "output_type": "stream",
     "text": [
      "[0, 1, 9, 69, 502, 3564, 24960, 173325]\n"
     ]
    }
   ],
   "source": [
    "t = []\n",
    "for n in range(8):\n",
    "    t.append(area(2,n))\n",
    "print(t)"
   ]
  },
  {
   "cell_type": "code",
   "execution_count": 91,
   "id": "a35f5074-8a77-4c56-8592-34ff3912bdee",
   "metadata": {},
   "outputs": [],
   "source": [
    "def area_series_coefs(s, n):\n",
    "    L.<z> = LazyPowerSeriesRing(QQ)\n",
    "    g = L.undefined()\n",
    "    g.define(1+z*g^(s+1))\n",
    "    S = L.undefined()\n",
    "    S.define(s*z*(g.derivative())/2 + (binomial(s+1,2)/g)*(z* g.derivative())^2 ) \n",
    "    return [S.coefficient(i) for i in range(n)]\n",
    "\n",
    "def average_series_coefs(s, n):\n",
    "    L.<z> = LazyPowerSeriesRing(QQ)\n",
    "    g = L.undefined()\n",
    "    g.define(1+z*g^(s+1))\n",
    "    S = L.undefined()\n",
    "    S.define(s*z*(g.derivative())/2 + (binomial(s+1,2)/g)*(z* g.derivative())^2 ) \n",
    "    return [S.coefficient(i)/g.coefficient(i) for i in range(n)]\n",
    "\n",
    "def bound_series_coefs(s, n):\n",
    "    L.<z> = LazyPowerSeriesRing(QQ)\n",
    "    g = L.undefined()\n",
    "    g.define(1+z*g^(s+1))\n",
    "    S = L.undefined()\n",
    "    S.define(s*z*(g.derivative())/2 + (binomial(s+1,2)/g)*(z* g.derivative())^2 ) \n",
    "    return [(S.coefficient(i)/g.coefficient(i))/i^(1.5) for i in range(n)]\n",
    "\n",
    "def area_series_coef(s,n):\n",
    "    L.<z> = LazyPowerSeriesRing(QQ)\n",
    "    g = L.undefined()\n",
    "    g.define(1+z*g^(s+1))\n",
    "    S = L.undefined()\n",
    "    S.define(s*z*(g.derivative())/2 + (binomial(s+1,2)/g)*(z* g.derivative())^2 ) \n",
    "    return S.coefficient(n)\n",
    "\n",
    "def fuss(s, n, p=1):\n",
    "    return p*binomial(s*n+p, n) / (s*n+p)\n",
    "\n",
    "\n",
    "def area_series(s):\n",
    "    L.<z> = LazyPowerSeriesRing(QQ)\n",
    "    g = L.undefined()\n",
    "    g.define(1+z*g^(s+1))\n",
    "    S = L.undefined()\n",
    "    S.define(s*z*(g.derivative())/2 + (binomial(s+1,2)/g)*(z* g.derivative())^2 ) \n",
    "    return S\n"
   ]
  },
  {
   "cell_type": "code",
   "execution_count": 106,
   "id": "24c815dc-32c6-4e8a-bfab-7745d52d1694",
   "metadata": {
    "scrolled": true
   },
   "outputs": [
    {
     "name": "stdout",
     "output_type": "stream",
     "text": [
      "0.000000000000000\n",
      "357.195365387832\n",
      "724.728911211511\n"
     ]
    },
    {
     "ename": "KeyboardInterrupt",
     "evalue": "",
     "output_type": "error",
     "traceback": [
      "\u001b[0;31m---------------------------------------------------------------------------\u001b[0m",
      "\u001b[0;31mKeyboardInterrupt\u001b[0m                         Traceback (most recent call last)",
      "Cell \u001b[0;32mIn[106], line 3\u001b[0m\n\u001b[1;32m      1\u001b[0m S \u001b[38;5;241m=\u001b[39m area_series(Integer(\u001b[38;5;241m2\u001b[39m))\n\u001b[1;32m      2\u001b[0m \u001b[38;5;28;01mfor\u001b[39;00m i \u001b[38;5;129;01min\u001b[39;00m \u001b[38;5;28mrange\u001b[39m(Integer(\u001b[38;5;241m10\u001b[39m)):\n\u001b[0;32m----> 3\u001b[0m     \u001b[38;5;28mprint\u001b[39m(N(\u001b[43mS\u001b[49m\u001b[38;5;241;43m.\u001b[39;49m\u001b[43mtruncate\u001b[49m\u001b[43m(\u001b[49m\u001b[43mInteger\u001b[49m\u001b[43m(\u001b[49m\u001b[38;5;241;43m1000\u001b[39;49m\u001b[43m)\u001b[49m\u001b[38;5;241;43m*\u001b[39;49m\u001b[43mi\u001b[49m\u001b[43m)\u001b[49m(Integer(\u001b[38;5;241m4\u001b[39m)\u001b[38;5;241m/\u001b[39mInteger(\u001b[38;5;241m27\u001b[39m))))\n",
      "File \u001b[0;32m/usr/lib/python3.11/site-packages/sage/rings/lazy_series.py:658\u001b[0m, in \u001b[0;36mLazyModuleElement.truncate\u001b[0;34m(self, d)\u001b[0m\n\u001b[1;32m    656\u001b[0m coeff_stream \u001b[38;5;241m=\u001b[39m \u001b[38;5;28mself\u001b[39m\u001b[38;5;241m.\u001b[39m_coeff_stream\n\u001b[1;32m    657\u001b[0m v \u001b[38;5;241m=\u001b[39m coeff_stream\u001b[38;5;241m.\u001b[39m_approximate_order\n\u001b[0;32m--> 658\u001b[0m initial_coefficients \u001b[38;5;241m=\u001b[39m \u001b[43m[\u001b[49m\u001b[43mcoeff_stream\u001b[49m\u001b[43m[\u001b[49m\u001b[43mi\u001b[49m\u001b[43m]\u001b[49m\u001b[43m \u001b[49m\u001b[38;5;28;43;01mfor\u001b[39;49;00m\u001b[43m \u001b[49m\u001b[43mi\u001b[49m\u001b[43m \u001b[49m\u001b[38;5;129;43;01min\u001b[39;49;00m\u001b[43m \u001b[49m\u001b[38;5;28;43mrange\u001b[39;49m\u001b[43m(\u001b[49m\u001b[43mv\u001b[49m\u001b[43m,\u001b[49m\u001b[43m \u001b[49m\u001b[43md\u001b[49m\u001b[43m)\u001b[49m\u001b[43m]\u001b[49m\n\u001b[1;32m    659\u001b[0m \u001b[38;5;28;01mif\u001b[39;00m \u001b[38;5;129;01mnot\u001b[39;00m \u001b[38;5;28many\u001b[39m(initial_coefficients):\n\u001b[1;32m    660\u001b[0m     \u001b[38;5;28;01mreturn\u001b[39;00m P\u001b[38;5;241m.\u001b[39mzero()\n",
      "File \u001b[0;32m/usr/lib/python3.11/site-packages/sage/rings/lazy_series.py:658\u001b[0m, in \u001b[0;36m<listcomp>\u001b[0;34m(.0)\u001b[0m\n\u001b[1;32m    656\u001b[0m coeff_stream \u001b[38;5;241m=\u001b[39m \u001b[38;5;28mself\u001b[39m\u001b[38;5;241m.\u001b[39m_coeff_stream\n\u001b[1;32m    657\u001b[0m v \u001b[38;5;241m=\u001b[39m coeff_stream\u001b[38;5;241m.\u001b[39m_approximate_order\n\u001b[0;32m--> 658\u001b[0m initial_coefficients \u001b[38;5;241m=\u001b[39m [\u001b[43mcoeff_stream\u001b[49m\u001b[43m[\u001b[49m\u001b[43mi\u001b[49m\u001b[43m]\u001b[49m \u001b[38;5;28;01mfor\u001b[39;00m i \u001b[38;5;129;01min\u001b[39;00m \u001b[38;5;28mrange\u001b[39m(v, d)]\n\u001b[1;32m    659\u001b[0m \u001b[38;5;28;01mif\u001b[39;00m \u001b[38;5;129;01mnot\u001b[39;00m \u001b[38;5;28many\u001b[39m(initial_coefficients):\n\u001b[1;32m    660\u001b[0m     \u001b[38;5;28;01mreturn\u001b[39;00m P\u001b[38;5;241m.\u001b[39mzero()\n",
      "File \u001b[0;32m/usr/lib/python3.11/site-packages/sage/data_structures/stream.py:416\u001b[0m, in \u001b[0;36mStream_inexact.__getitem__\u001b[0;34m(self, n)\u001b[0m\n\u001b[1;32m    411\u001b[0m \u001b[38;5;28;01mif\u001b[39;00m \u001b[38;5;28mself\u001b[39m\u001b[38;5;241m.\u001b[39m_true_order:\n\u001b[1;32m    412\u001b[0m     \u001b[38;5;66;03m# It is important to extend by generator:\u001b[39;00m\n\u001b[1;32m    413\u001b[0m     \u001b[38;5;66;03m# self._iter might recurse, and thereby extend the\u001b[39;00m\n\u001b[1;32m    414\u001b[0m     \u001b[38;5;66;03m# cache itself, too.\u001b[39;00m\n\u001b[1;32m    415\u001b[0m     i \u001b[38;5;241m=\u001b[39m n \u001b[38;5;241m-\u001b[39m \u001b[38;5;28mself\u001b[39m\u001b[38;5;241m.\u001b[39m_approximate_order\n\u001b[0;32m--> 416\u001b[0m     \u001b[38;5;28mself\u001b[39m\u001b[38;5;241m.\u001b[39m_cache\u001b[38;5;241m.\u001b[39mextend(\u001b[38;5;28mnext\u001b[39m(\u001b[38;5;28mself\u001b[39m\u001b[38;5;241m.\u001b[39m_iter)\n\u001b[1;32m    417\u001b[0m                        \u001b[38;5;28;01mfor\u001b[39;00m _ \u001b[38;5;129;01min\u001b[39;00m \u001b[38;5;28mrange\u001b[39m(i \u001b[38;5;241m-\u001b[39m \u001b[38;5;28mlen\u001b[39m(\u001b[38;5;28mself\u001b[39m\u001b[38;5;241m.\u001b[39m_cache) \u001b[38;5;241m+\u001b[39m \u001b[38;5;241m1\u001b[39m))\n\u001b[1;32m    418\u001b[0m     \u001b[38;5;28;01mreturn\u001b[39;00m \u001b[38;5;28mself\u001b[39m\u001b[38;5;241m.\u001b[39m_cache[i]\n\u001b[1;32m    420\u001b[0m \u001b[38;5;28;01mreturn\u001b[39;00m ZZ\u001b[38;5;241m.\u001b[39mzero()\n",
      "File \u001b[0;32m/usr/lib/python3.11/site-packages/sage/data_structures/stream.py:416\u001b[0m, in \u001b[0;36m<genexpr>\u001b[0;34m(.0)\u001b[0m\n\u001b[1;32m    411\u001b[0m \u001b[38;5;28;01mif\u001b[39;00m \u001b[38;5;28mself\u001b[39m\u001b[38;5;241m.\u001b[39m_true_order:\n\u001b[1;32m    412\u001b[0m     \u001b[38;5;66;03m# It is important to extend by generator:\u001b[39;00m\n\u001b[1;32m    413\u001b[0m     \u001b[38;5;66;03m# self._iter might recurse, and thereby extend the\u001b[39;00m\n\u001b[1;32m    414\u001b[0m     \u001b[38;5;66;03m# cache itself, too.\u001b[39;00m\n\u001b[1;32m    415\u001b[0m     i \u001b[38;5;241m=\u001b[39m n \u001b[38;5;241m-\u001b[39m \u001b[38;5;28mself\u001b[39m\u001b[38;5;241m.\u001b[39m_approximate_order\n\u001b[0;32m--> 416\u001b[0m     \u001b[38;5;28mself\u001b[39m\u001b[38;5;241m.\u001b[39m_cache\u001b[38;5;241m.\u001b[39mextend(\u001b[38;5;28mnext\u001b[39m(\u001b[38;5;28mself\u001b[39m\u001b[38;5;241m.\u001b[39m_iter)\n\u001b[1;32m    417\u001b[0m                        \u001b[38;5;28;01mfor\u001b[39;00m _ \u001b[38;5;129;01min\u001b[39;00m \u001b[38;5;28mrange\u001b[39m(i \u001b[38;5;241m-\u001b[39m \u001b[38;5;28mlen\u001b[39m(\u001b[38;5;28mself\u001b[39m\u001b[38;5;241m.\u001b[39m_cache) \u001b[38;5;241m+\u001b[39m \u001b[38;5;241m1\u001b[39m))\n\u001b[1;32m    418\u001b[0m     \u001b[38;5;28;01mreturn\u001b[39;00m \u001b[38;5;28mself\u001b[39m\u001b[38;5;241m.\u001b[39m_cache[i]\n\u001b[1;32m    420\u001b[0m \u001b[38;5;28;01mreturn\u001b[39;00m ZZ\u001b[38;5;241m.\u001b[39mzero()\n",
      "File \u001b[0;32m/usr/lib/python3.11/site-packages/sage/data_structures/stream.py:1271\u001b[0m, in \u001b[0;36mStream_uninitialized.iterate_coefficients\u001b[0;34m(self)\u001b[0m\n\u001b[1;32m   1269\u001b[0m n \u001b[38;5;241m=\u001b[39m \u001b[38;5;28mself\u001b[39m\u001b[38;5;241m.\u001b[39m_approximate_order\n\u001b[1;32m   1270\u001b[0m \u001b[38;5;28;01mwhile\u001b[39;00m \u001b[38;5;28;01mTrue\u001b[39;00m:\n\u001b[0;32m-> 1271\u001b[0m     \u001b[38;5;28;01myield\u001b[39;00m \u001b[38;5;28;43mself\u001b[39;49m\u001b[38;5;241;43m.\u001b[39;49m\u001b[43m_target\u001b[49m\u001b[43m[\u001b[49m\u001b[43mn\u001b[49m\u001b[43m]\u001b[49m\n\u001b[1;32m   1272\u001b[0m     n \u001b[38;5;241m+\u001b[39m\u001b[38;5;241m=\u001b[39m \u001b[38;5;241m1\u001b[39m\n",
      "File \u001b[0;32m/usr/lib/python3.11/site-packages/sage/data_structures/stream.py:381\u001b[0m, in \u001b[0;36mStream_inexact.__getitem__\u001b[0;34m(self, n)\u001b[0m\n\u001b[1;32m    378\u001b[0m \u001b[38;5;28;01mexcept\u001b[39;00m \u001b[38;5;167;01mKeyError\u001b[39;00m:\n\u001b[1;32m    379\u001b[0m     \u001b[38;5;28;01mpass\u001b[39;00m\n\u001b[0;32m--> 381\u001b[0m c \u001b[38;5;241m=\u001b[39m \u001b[38;5;28;43mself\u001b[39;49m\u001b[38;5;241;43m.\u001b[39;49m\u001b[43mget_coefficient\u001b[49m\u001b[43m(\u001b[49m\u001b[43mn\u001b[49m\u001b[43m)\u001b[49m\n\u001b[1;32m    382\u001b[0m \u001b[38;5;28;01mif\u001b[39;00m \u001b[38;5;28mself\u001b[39m\u001b[38;5;241m.\u001b[39m_true_order \u001b[38;5;129;01mor\u001b[39;00m n \u001b[38;5;241m>\u001b[39m \u001b[38;5;28mself\u001b[39m\u001b[38;5;241m.\u001b[39m_approximate_order:\n\u001b[1;32m    383\u001b[0m     \u001b[38;5;28mself\u001b[39m\u001b[38;5;241m.\u001b[39m_cache[n] \u001b[38;5;241m=\u001b[39m c\n",
      "File \u001b[0;32m/usr/lib/python3.11/site-packages/sage/data_structures/stream.py:1738\u001b[0m, in \u001b[0;36mStream_add.get_coefficient\u001b[0;34m(self, n)\u001b[0m\n\u001b[1;32m   1719\u001b[0m \u001b[38;5;28;01mdef\u001b[39;00m \u001b[38;5;21mget_coefficient\u001b[39m(\u001b[38;5;28mself\u001b[39m, n):\n\u001b[1;32m   1720\u001b[0m \u001b[38;5;250m    \u001b[39m\u001b[38;5;124;03m\"\"\"\u001b[39;00m\n\u001b[1;32m   1721\u001b[0m \u001b[38;5;124;03m    Return the ``n``-th coefficient of ``self``.\u001b[39;00m\n\u001b[1;32m   1722\u001b[0m \n\u001b[0;32m   (...)\u001b[0m\n\u001b[1;32m   1736\u001b[0m \u001b[38;5;124;03m        [0, 2, 6, 12, 20, 30, 42, 56, 72, 90]\u001b[39;00m\n\u001b[1;32m   1737\u001b[0m \u001b[38;5;124;03m    \"\"\"\u001b[39;00m\n\u001b[0;32m-> 1738\u001b[0m     \u001b[38;5;28;01mreturn\u001b[39;00m \u001b[38;5;28;43mself\u001b[39;49m\u001b[38;5;241;43m.\u001b[39;49m\u001b[43m_left\u001b[49m\u001b[43m[\u001b[49m\u001b[43mn\u001b[49m\u001b[43m]\u001b[49m \u001b[38;5;241m+\u001b[39m \u001b[38;5;28mself\u001b[39m\u001b[38;5;241m.\u001b[39m_right[n]\n",
      "File \u001b[0;32m/usr/lib/python3.11/site-packages/sage/data_structures/stream.py:381\u001b[0m, in \u001b[0;36mStream_inexact.__getitem__\u001b[0;34m(self, n)\u001b[0m\n\u001b[1;32m    378\u001b[0m \u001b[38;5;28;01mexcept\u001b[39;00m \u001b[38;5;167;01mKeyError\u001b[39;00m:\n\u001b[1;32m    379\u001b[0m     \u001b[38;5;28;01mpass\u001b[39;00m\n\u001b[0;32m--> 381\u001b[0m c \u001b[38;5;241m=\u001b[39m \u001b[38;5;28;43mself\u001b[39;49m\u001b[38;5;241;43m.\u001b[39;49m\u001b[43mget_coefficient\u001b[49m\u001b[43m(\u001b[49m\u001b[43mn\u001b[49m\u001b[43m)\u001b[49m\n\u001b[1;32m    382\u001b[0m \u001b[38;5;28;01mif\u001b[39;00m \u001b[38;5;28mself\u001b[39m\u001b[38;5;241m.\u001b[39m_true_order \u001b[38;5;129;01mor\u001b[39;00m n \u001b[38;5;241m>\u001b[39m \u001b[38;5;28mself\u001b[39m\u001b[38;5;241m.\u001b[39m_approximate_order:\n\u001b[1;32m    383\u001b[0m     \u001b[38;5;28mself\u001b[39m\u001b[38;5;241m.\u001b[39m_cache[n] \u001b[38;5;241m=\u001b[39m c\n",
      "File \u001b[0;32m/usr/lib/python3.11/site-packages/sage/data_structures/stream.py:2618\u001b[0m, in \u001b[0;36mStream_lmul.get_coefficient\u001b[0;34m(self, n)\u001b[0m\n\u001b[1;32m   2600\u001b[0m \u001b[38;5;28;01mdef\u001b[39;00m \u001b[38;5;21mget_coefficient\u001b[39m(\u001b[38;5;28mself\u001b[39m, n):\n\u001b[1;32m   2601\u001b[0m \u001b[38;5;250m    \u001b[39m\u001b[38;5;124;03m\"\"\"\u001b[39;00m\n\u001b[1;32m   2602\u001b[0m \u001b[38;5;124;03m    Return the ``n``-th coefficient of ``self``.\u001b[39;00m\n\u001b[1;32m   2603\u001b[0m \n\u001b[0;32m   (...)\u001b[0m\n\u001b[1;32m   2616\u001b[0m \u001b[38;5;124;03m        [0, 3, 6, 9, 12, 15, 18, 21, 24, 27]\u001b[39;00m\n\u001b[1;32m   2617\u001b[0m \u001b[38;5;124;03m    \"\"\"\u001b[39;00m\n\u001b[0;32m-> 2618\u001b[0m     \u001b[38;5;28;01mreturn\u001b[39;00m \u001b[38;5;28;43mself\u001b[39;49m\u001b[38;5;241;43m.\u001b[39;49m\u001b[43m_series\u001b[49m\u001b[43m[\u001b[49m\u001b[43mn\u001b[49m\u001b[43m]\u001b[49m \u001b[38;5;241m*\u001b[39m \u001b[38;5;28mself\u001b[39m\u001b[38;5;241m.\u001b[39m_scalar\n",
      "File \u001b[0;32m/usr/lib/python3.11/site-packages/sage/data_structures/stream.py:381\u001b[0m, in \u001b[0;36mStream_inexact.__getitem__\u001b[0;34m(self, n)\u001b[0m\n\u001b[1;32m    378\u001b[0m \u001b[38;5;28;01mexcept\u001b[39;00m \u001b[38;5;167;01mKeyError\u001b[39;00m:\n\u001b[1;32m    379\u001b[0m     \u001b[38;5;28;01mpass\u001b[39;00m\n\u001b[0;32m--> 381\u001b[0m c \u001b[38;5;241m=\u001b[39m \u001b[38;5;28;43mself\u001b[39;49m\u001b[38;5;241;43m.\u001b[39;49m\u001b[43mget_coefficient\u001b[49m\u001b[43m(\u001b[49m\u001b[43mn\u001b[49m\u001b[43m)\u001b[49m\n\u001b[1;32m    382\u001b[0m \u001b[38;5;28;01mif\u001b[39;00m \u001b[38;5;28mself\u001b[39m\u001b[38;5;241m.\u001b[39m_true_order \u001b[38;5;129;01mor\u001b[39;00m n \u001b[38;5;241m>\u001b[39m \u001b[38;5;28mself\u001b[39m\u001b[38;5;241m.\u001b[39m_approximate_order:\n\u001b[1;32m    383\u001b[0m     \u001b[38;5;28mself\u001b[39m\u001b[38;5;241m.\u001b[39m_cache[n] \u001b[38;5;241m=\u001b[39m c\n",
      "File \u001b[0;32m/usr/lib/python3.11/site-packages/sage/data_structures/stream.py:1866\u001b[0m, in \u001b[0;36mStream_cauchy_mul.get_coefficient\u001b[0;34m(self, n)\u001b[0m\n\u001b[1;32m   1847\u001b[0m \u001b[38;5;28;01mdef\u001b[39;00m \u001b[38;5;21mget_coefficient\u001b[39m(\u001b[38;5;28mself\u001b[39m, n):\n\u001b[1;32m   1848\u001b[0m \u001b[38;5;250m    \u001b[39m\u001b[38;5;124;03m\"\"\"\u001b[39;00m\n\u001b[1;32m   1849\u001b[0m \u001b[38;5;124;03m    Return the ``n``-th coefficient of ``self``.\u001b[39;00m\n\u001b[1;32m   1850\u001b[0m \n\u001b[0;32m   (...)\u001b[0m\n\u001b[1;32m   1864\u001b[0m \u001b[38;5;124;03m        [0, 0, 1, 6, 20, 50, 105, 196, 336, 540]\u001b[39;00m\n\u001b[1;32m   1865\u001b[0m \u001b[38;5;124;03m    \"\"\"\u001b[39;00m\n\u001b[0;32m-> 1866\u001b[0m     \u001b[38;5;28;01mreturn\u001b[39;00m \u001b[38;5;28msum\u001b[39m(l \u001b[38;5;241m*\u001b[39m \u001b[38;5;28mself\u001b[39m\u001b[38;5;241m.\u001b[39m_right[n \u001b[38;5;241m-\u001b[39m k]\n\u001b[1;32m   1867\u001b[0m                \u001b[38;5;28;01mfor\u001b[39;00m k \u001b[38;5;129;01min\u001b[39;00m \u001b[38;5;28mrange\u001b[39m(\u001b[38;5;28mself\u001b[39m\u001b[38;5;241m.\u001b[39m_left\u001b[38;5;241m.\u001b[39m_approximate_order,\n\u001b[1;32m   1868\u001b[0m                               n \u001b[38;5;241m-\u001b[39m \u001b[38;5;28mself\u001b[39m\u001b[38;5;241m.\u001b[39m_right\u001b[38;5;241m.\u001b[39m_approximate_order \u001b[38;5;241m+\u001b[39m \u001b[38;5;241m1\u001b[39m)\n\u001b[1;32m   1869\u001b[0m                \u001b[38;5;28;01mif\u001b[39;00m (l \u001b[38;5;241m:=\u001b[39m \u001b[38;5;28mself\u001b[39m\u001b[38;5;241m.\u001b[39m_left[k]))\n",
      "File \u001b[0;32m/usr/lib/python3.11/site-packages/sage/data_structures/stream.py:1866\u001b[0m, in \u001b[0;36m<genexpr>\u001b[0;34m(.0)\u001b[0m\n\u001b[1;32m   1847\u001b[0m \u001b[38;5;28;01mdef\u001b[39;00m \u001b[38;5;21mget_coefficient\u001b[39m(\u001b[38;5;28mself\u001b[39m, n):\n\u001b[1;32m   1848\u001b[0m \u001b[38;5;250m    \u001b[39m\u001b[38;5;124;03m\"\"\"\u001b[39;00m\n\u001b[1;32m   1849\u001b[0m \u001b[38;5;124;03m    Return the ``n``-th coefficient of ``self``.\u001b[39;00m\n\u001b[1;32m   1850\u001b[0m \n\u001b[0;32m   (...)\u001b[0m\n\u001b[1;32m   1864\u001b[0m \u001b[38;5;124;03m        [0, 0, 1, 6, 20, 50, 105, 196, 336, 540]\u001b[39;00m\n\u001b[1;32m   1865\u001b[0m \u001b[38;5;124;03m    \"\"\"\u001b[39;00m\n\u001b[0;32m-> 1866\u001b[0m     \u001b[38;5;28;01mreturn\u001b[39;00m \u001b[38;5;28msum\u001b[39m(l \u001b[38;5;241m*\u001b[39m \u001b[38;5;28;43mself\u001b[39;49m\u001b[38;5;241;43m.\u001b[39;49m\u001b[43m_right\u001b[49m\u001b[43m[\u001b[49m\u001b[43mn\u001b[49m\u001b[43m \u001b[49m\u001b[38;5;241;43m-\u001b[39;49m\u001b[43m \u001b[49m\u001b[43mk\u001b[49m\u001b[43m]\u001b[49m\n\u001b[1;32m   1867\u001b[0m                \u001b[38;5;28;01mfor\u001b[39;00m k \u001b[38;5;129;01min\u001b[39;00m \u001b[38;5;28mrange\u001b[39m(\u001b[38;5;28mself\u001b[39m\u001b[38;5;241m.\u001b[39m_left\u001b[38;5;241m.\u001b[39m_approximate_order,\n\u001b[1;32m   1868\u001b[0m                               n \u001b[38;5;241m-\u001b[39m \u001b[38;5;28mself\u001b[39m\u001b[38;5;241m.\u001b[39m_right\u001b[38;5;241m.\u001b[39m_approximate_order \u001b[38;5;241m+\u001b[39m \u001b[38;5;241m1\u001b[39m)\n\u001b[1;32m   1869\u001b[0m                \u001b[38;5;28;01mif\u001b[39;00m (l \u001b[38;5;241m:=\u001b[39m \u001b[38;5;28mself\u001b[39m\u001b[38;5;241m.\u001b[39m_left[k]))\n",
      "File \u001b[0;32m/usr/lib/python3.11/site-packages/sage/data_structures/stream.py:3542\u001b[0m, in \u001b[0;36mStream_derivative.__getitem__\u001b[0;34m(self, n)\u001b[0m\n\u001b[1;32m   3520\u001b[0m \u001b[38;5;28;01mdef\u001b[39;00m \u001b[38;5;21m__getitem__\u001b[39m(\u001b[38;5;28mself\u001b[39m, n):\n\u001b[1;32m   3521\u001b[0m \u001b[38;5;250m    \u001b[39m\u001b[38;5;124;03m\"\"\"\u001b[39;00m\n\u001b[1;32m   3522\u001b[0m \u001b[38;5;124;03m    Return the ``n``-th coefficient of ``self``.\u001b[39;00m\n\u001b[1;32m   3523\u001b[0m \n\u001b[0;32m   (...)\u001b[0m\n\u001b[1;32m   3539\u001b[0m \u001b[38;5;124;03m        [0, 2, 6, 12, 20]\u001b[39;00m\n\u001b[1;32m   3540\u001b[0m \u001b[38;5;124;03m    \"\"\"\u001b[39;00m\n\u001b[1;32m   3541\u001b[0m     \u001b[38;5;28;01mreturn\u001b[39;00m (ZZ\u001b[38;5;241m.\u001b[39mprod(\u001b[38;5;28mrange\u001b[39m(n \u001b[38;5;241m+\u001b[39m \u001b[38;5;241m1\u001b[39m, n \u001b[38;5;241m+\u001b[39m \u001b[38;5;28mself\u001b[39m\u001b[38;5;241m.\u001b[39m_shift \u001b[38;5;241m+\u001b[39m \u001b[38;5;241m1\u001b[39m))\n\u001b[0;32m-> 3542\u001b[0m             \u001b[38;5;241m*\u001b[39m \u001b[38;5;28;43mself\u001b[39;49m\u001b[38;5;241;43m.\u001b[39;49m\u001b[43m_series\u001b[49m\u001b[43m[\u001b[49m\u001b[43mn\u001b[49m\u001b[43m \u001b[49m\u001b[38;5;241;43m+\u001b[39;49m\u001b[43m \u001b[49m\u001b[38;5;28;43mself\u001b[39;49m\u001b[38;5;241;43m.\u001b[39;49m\u001b[43m_shift\u001b[49m\u001b[43m]\u001b[49m)\n",
      "File \u001b[0;32m/usr/lib/python3.11/site-packages/sage/data_structures/stream.py:416\u001b[0m, in \u001b[0;36mStream_inexact.__getitem__\u001b[0;34m(self, n)\u001b[0m\n\u001b[1;32m    411\u001b[0m \u001b[38;5;28;01mif\u001b[39;00m \u001b[38;5;28mself\u001b[39m\u001b[38;5;241m.\u001b[39m_true_order:\n\u001b[1;32m    412\u001b[0m     \u001b[38;5;66;03m# It is important to extend by generator:\u001b[39;00m\n\u001b[1;32m    413\u001b[0m     \u001b[38;5;66;03m# self._iter might recurse, and thereby extend the\u001b[39;00m\n\u001b[1;32m    414\u001b[0m     \u001b[38;5;66;03m# cache itself, too.\u001b[39;00m\n\u001b[1;32m    415\u001b[0m     i \u001b[38;5;241m=\u001b[39m n \u001b[38;5;241m-\u001b[39m \u001b[38;5;28mself\u001b[39m\u001b[38;5;241m.\u001b[39m_approximate_order\n\u001b[0;32m--> 416\u001b[0m     \u001b[38;5;28mself\u001b[39m\u001b[38;5;241m.\u001b[39m_cache\u001b[38;5;241m.\u001b[39mextend(\u001b[38;5;28mnext\u001b[39m(\u001b[38;5;28mself\u001b[39m\u001b[38;5;241m.\u001b[39m_iter)\n\u001b[1;32m    417\u001b[0m                        \u001b[38;5;28;01mfor\u001b[39;00m _ \u001b[38;5;129;01min\u001b[39;00m \u001b[38;5;28mrange\u001b[39m(i \u001b[38;5;241m-\u001b[39m \u001b[38;5;28mlen\u001b[39m(\u001b[38;5;28mself\u001b[39m\u001b[38;5;241m.\u001b[39m_cache) \u001b[38;5;241m+\u001b[39m \u001b[38;5;241m1\u001b[39m))\n\u001b[1;32m    418\u001b[0m     \u001b[38;5;28;01mreturn\u001b[39;00m \u001b[38;5;28mself\u001b[39m\u001b[38;5;241m.\u001b[39m_cache[i]\n\u001b[1;32m    420\u001b[0m \u001b[38;5;28;01mreturn\u001b[39;00m ZZ\u001b[38;5;241m.\u001b[39mzero()\n",
      "File \u001b[0;32m/usr/lib/python3.11/site-packages/sage/data_structures/stream.py:416\u001b[0m, in \u001b[0;36m<genexpr>\u001b[0;34m(.0)\u001b[0m\n\u001b[1;32m    411\u001b[0m \u001b[38;5;28;01mif\u001b[39;00m \u001b[38;5;28mself\u001b[39m\u001b[38;5;241m.\u001b[39m_true_order:\n\u001b[1;32m    412\u001b[0m     \u001b[38;5;66;03m# It is important to extend by generator:\u001b[39;00m\n\u001b[1;32m    413\u001b[0m     \u001b[38;5;66;03m# self._iter might recurse, and thereby extend the\u001b[39;00m\n\u001b[1;32m    414\u001b[0m     \u001b[38;5;66;03m# cache itself, too.\u001b[39;00m\n\u001b[1;32m    415\u001b[0m     i \u001b[38;5;241m=\u001b[39m n \u001b[38;5;241m-\u001b[39m \u001b[38;5;28mself\u001b[39m\u001b[38;5;241m.\u001b[39m_approximate_order\n\u001b[0;32m--> 416\u001b[0m     \u001b[38;5;28mself\u001b[39m\u001b[38;5;241m.\u001b[39m_cache\u001b[38;5;241m.\u001b[39mextend(\u001b[38;5;28mnext\u001b[39m(\u001b[38;5;28mself\u001b[39m\u001b[38;5;241m.\u001b[39m_iter)\n\u001b[1;32m    417\u001b[0m                        \u001b[38;5;28;01mfor\u001b[39;00m _ \u001b[38;5;129;01min\u001b[39;00m \u001b[38;5;28mrange\u001b[39m(i \u001b[38;5;241m-\u001b[39m \u001b[38;5;28mlen\u001b[39m(\u001b[38;5;28mself\u001b[39m\u001b[38;5;241m.\u001b[39m_cache) \u001b[38;5;241m+\u001b[39m \u001b[38;5;241m1\u001b[39m))\n\u001b[1;32m    418\u001b[0m     \u001b[38;5;28;01mreturn\u001b[39;00m \u001b[38;5;28mself\u001b[39m\u001b[38;5;241m.\u001b[39m_cache[i]\n\u001b[1;32m    420\u001b[0m \u001b[38;5;28;01mreturn\u001b[39;00m ZZ\u001b[38;5;241m.\u001b[39mzero()\n",
      "File \u001b[0;32m/usr/lib/python3.11/site-packages/sage/data_structures/stream.py:1271\u001b[0m, in \u001b[0;36mStream_uninitialized.iterate_coefficients\u001b[0;34m(self)\u001b[0m\n\u001b[1;32m   1269\u001b[0m n \u001b[38;5;241m=\u001b[39m \u001b[38;5;28mself\u001b[39m\u001b[38;5;241m.\u001b[39m_approximate_order\n\u001b[1;32m   1270\u001b[0m \u001b[38;5;28;01mwhile\u001b[39;00m \u001b[38;5;28;01mTrue\u001b[39;00m:\n\u001b[0;32m-> 1271\u001b[0m     \u001b[38;5;28;01myield\u001b[39;00m \u001b[38;5;28;43mself\u001b[39;49m\u001b[38;5;241;43m.\u001b[39;49m\u001b[43m_target\u001b[49m\u001b[43m[\u001b[49m\u001b[43mn\u001b[49m\u001b[43m]\u001b[49m\n\u001b[1;32m   1272\u001b[0m     n \u001b[38;5;241m+\u001b[39m\u001b[38;5;241m=\u001b[39m \u001b[38;5;241m1\u001b[39m\n",
      "File \u001b[0;32m/usr/lib/python3.11/site-packages/sage/data_structures/stream.py:381\u001b[0m, in \u001b[0;36mStream_inexact.__getitem__\u001b[0;34m(self, n)\u001b[0m\n\u001b[1;32m    378\u001b[0m \u001b[38;5;28;01mexcept\u001b[39;00m \u001b[38;5;167;01mKeyError\u001b[39;00m:\n\u001b[1;32m    379\u001b[0m     \u001b[38;5;28;01mpass\u001b[39;00m\n\u001b[0;32m--> 381\u001b[0m c \u001b[38;5;241m=\u001b[39m \u001b[38;5;28;43mself\u001b[39;49m\u001b[38;5;241;43m.\u001b[39;49m\u001b[43mget_coefficient\u001b[49m\u001b[43m(\u001b[49m\u001b[43mn\u001b[49m\u001b[43m)\u001b[49m\n\u001b[1;32m    382\u001b[0m \u001b[38;5;28;01mif\u001b[39;00m \u001b[38;5;28mself\u001b[39m\u001b[38;5;241m.\u001b[39m_true_order \u001b[38;5;129;01mor\u001b[39;00m n \u001b[38;5;241m>\u001b[39m \u001b[38;5;28mself\u001b[39m\u001b[38;5;241m.\u001b[39m_approximate_order:\n\u001b[1;32m    383\u001b[0m     \u001b[38;5;28mself\u001b[39m\u001b[38;5;241m.\u001b[39m_cache[n] \u001b[38;5;241m=\u001b[39m c\n",
      "File \u001b[0;32m/usr/lib/python3.11/site-packages/sage/data_structures/stream.py:1738\u001b[0m, in \u001b[0;36mStream_add.get_coefficient\u001b[0;34m(self, n)\u001b[0m\n\u001b[1;32m   1719\u001b[0m \u001b[38;5;28;01mdef\u001b[39;00m \u001b[38;5;21mget_coefficient\u001b[39m(\u001b[38;5;28mself\u001b[39m, n):\n\u001b[1;32m   1720\u001b[0m \u001b[38;5;250m    \u001b[39m\u001b[38;5;124;03m\"\"\"\u001b[39;00m\n\u001b[1;32m   1721\u001b[0m \u001b[38;5;124;03m    Return the ``n``-th coefficient of ``self``.\u001b[39;00m\n\u001b[1;32m   1722\u001b[0m \n\u001b[0;32m   (...)\u001b[0m\n\u001b[1;32m   1736\u001b[0m \u001b[38;5;124;03m        [0, 2, 6, 12, 20, 30, 42, 56, 72, 90]\u001b[39;00m\n\u001b[1;32m   1737\u001b[0m \u001b[38;5;124;03m    \"\"\"\u001b[39;00m\n\u001b[0;32m-> 1738\u001b[0m     \u001b[38;5;28;01mreturn\u001b[39;00m \u001b[38;5;28mself\u001b[39m\u001b[38;5;241m.\u001b[39m_left[n] \u001b[38;5;241m+\u001b[39m \u001b[38;5;28;43mself\u001b[39;49m\u001b[38;5;241;43m.\u001b[39;49m\u001b[43m_right\u001b[49m\u001b[43m[\u001b[49m\u001b[43mn\u001b[49m\u001b[43m]\u001b[49m\n",
      "File \u001b[0;32m/usr/lib/python3.11/site-packages/sage/data_structures/stream.py:381\u001b[0m, in \u001b[0;36mStream_inexact.__getitem__\u001b[0;34m(self, n)\u001b[0m\n\u001b[1;32m    378\u001b[0m \u001b[38;5;28;01mexcept\u001b[39;00m \u001b[38;5;167;01mKeyError\u001b[39;00m:\n\u001b[1;32m    379\u001b[0m     \u001b[38;5;28;01mpass\u001b[39;00m\n\u001b[0;32m--> 381\u001b[0m c \u001b[38;5;241m=\u001b[39m \u001b[38;5;28;43mself\u001b[39;49m\u001b[38;5;241;43m.\u001b[39;49m\u001b[43mget_coefficient\u001b[49m\u001b[43m(\u001b[49m\u001b[43mn\u001b[49m\u001b[43m)\u001b[49m\n\u001b[1;32m    382\u001b[0m \u001b[38;5;28;01mif\u001b[39;00m \u001b[38;5;28mself\u001b[39m\u001b[38;5;241m.\u001b[39m_true_order \u001b[38;5;129;01mor\u001b[39;00m n \u001b[38;5;241m>\u001b[39m \u001b[38;5;28mself\u001b[39m\u001b[38;5;241m.\u001b[39m_approximate_order:\n\u001b[1;32m    383\u001b[0m     \u001b[38;5;28mself\u001b[39m\u001b[38;5;241m.\u001b[39m_cache[n] \u001b[38;5;241m=\u001b[39m c\n",
      "File \u001b[0;32m/usr/lib/python3.11/site-packages/sage/data_structures/stream.py:1866\u001b[0m, in \u001b[0;36mStream_cauchy_mul.get_coefficient\u001b[0;34m(self, n)\u001b[0m\n\u001b[1;32m   1847\u001b[0m \u001b[38;5;28;01mdef\u001b[39;00m \u001b[38;5;21mget_coefficient\u001b[39m(\u001b[38;5;28mself\u001b[39m, n):\n\u001b[1;32m   1848\u001b[0m \u001b[38;5;250m    \u001b[39m\u001b[38;5;124;03m\"\"\"\u001b[39;00m\n\u001b[1;32m   1849\u001b[0m \u001b[38;5;124;03m    Return the ``n``-th coefficient of ``self``.\u001b[39;00m\n\u001b[1;32m   1850\u001b[0m \n\u001b[0;32m   (...)\u001b[0m\n\u001b[1;32m   1864\u001b[0m \u001b[38;5;124;03m        [0, 0, 1, 6, 20, 50, 105, 196, 336, 540]\u001b[39;00m\n\u001b[1;32m   1865\u001b[0m \u001b[38;5;124;03m    \"\"\"\u001b[39;00m\n\u001b[0;32m-> 1866\u001b[0m     \u001b[38;5;28;01mreturn\u001b[39;00m \u001b[38;5;28msum\u001b[39m(l \u001b[38;5;241m*\u001b[39m \u001b[38;5;28mself\u001b[39m\u001b[38;5;241m.\u001b[39m_right[n \u001b[38;5;241m-\u001b[39m k]\n\u001b[1;32m   1867\u001b[0m                \u001b[38;5;28;01mfor\u001b[39;00m k \u001b[38;5;129;01min\u001b[39;00m \u001b[38;5;28mrange\u001b[39m(\u001b[38;5;28mself\u001b[39m\u001b[38;5;241m.\u001b[39m_left\u001b[38;5;241m.\u001b[39m_approximate_order,\n\u001b[1;32m   1868\u001b[0m                               n \u001b[38;5;241m-\u001b[39m \u001b[38;5;28mself\u001b[39m\u001b[38;5;241m.\u001b[39m_right\u001b[38;5;241m.\u001b[39m_approximate_order \u001b[38;5;241m+\u001b[39m \u001b[38;5;241m1\u001b[39m)\n\u001b[1;32m   1869\u001b[0m                \u001b[38;5;28;01mif\u001b[39;00m (l \u001b[38;5;241m:=\u001b[39m \u001b[38;5;28mself\u001b[39m\u001b[38;5;241m.\u001b[39m_left[k]))\n",
      "File \u001b[0;32m/usr/lib/python3.11/site-packages/sage/data_structures/stream.py:1866\u001b[0m, in \u001b[0;36m<genexpr>\u001b[0;34m(.0)\u001b[0m\n\u001b[1;32m   1847\u001b[0m \u001b[38;5;28;01mdef\u001b[39;00m \u001b[38;5;21mget_coefficient\u001b[39m(\u001b[38;5;28mself\u001b[39m, n):\n\u001b[1;32m   1848\u001b[0m \u001b[38;5;250m    \u001b[39m\u001b[38;5;124;03m\"\"\"\u001b[39;00m\n\u001b[1;32m   1849\u001b[0m \u001b[38;5;124;03m    Return the ``n``-th coefficient of ``self``.\u001b[39;00m\n\u001b[1;32m   1850\u001b[0m \n\u001b[0;32m   (...)\u001b[0m\n\u001b[1;32m   1864\u001b[0m \u001b[38;5;124;03m        [0, 0, 1, 6, 20, 50, 105, 196, 336, 540]\u001b[39;00m\n\u001b[1;32m   1865\u001b[0m \u001b[38;5;124;03m    \"\"\"\u001b[39;00m\n\u001b[0;32m-> 1866\u001b[0m     \u001b[38;5;28;01mreturn\u001b[39;00m \u001b[38;5;28msum\u001b[39m(l \u001b[38;5;241m*\u001b[39m \u001b[38;5;28;43mself\u001b[39;49m\u001b[38;5;241;43m.\u001b[39;49m\u001b[43m_right\u001b[49m\u001b[43m[\u001b[49m\u001b[43mn\u001b[49m\u001b[43m \u001b[49m\u001b[38;5;241;43m-\u001b[39;49m\u001b[43m \u001b[49m\u001b[43mk\u001b[49m\u001b[43m]\u001b[49m\n\u001b[1;32m   1867\u001b[0m                \u001b[38;5;28;01mfor\u001b[39;00m k \u001b[38;5;129;01min\u001b[39;00m \u001b[38;5;28mrange\u001b[39m(\u001b[38;5;28mself\u001b[39m\u001b[38;5;241m.\u001b[39m_left\u001b[38;5;241m.\u001b[39m_approximate_order,\n\u001b[1;32m   1868\u001b[0m                               n \u001b[38;5;241m-\u001b[39m \u001b[38;5;28mself\u001b[39m\u001b[38;5;241m.\u001b[39m_right\u001b[38;5;241m.\u001b[39m_approximate_order \u001b[38;5;241m+\u001b[39m \u001b[38;5;241m1\u001b[39m)\n\u001b[1;32m   1869\u001b[0m                \u001b[38;5;28;01mif\u001b[39;00m (l \u001b[38;5;241m:=\u001b[39m \u001b[38;5;28mself\u001b[39m\u001b[38;5;241m.\u001b[39m_left[k]))\n",
      "File \u001b[0;32m/usr/lib/python3.11/site-packages/sage/data_structures/stream.py:381\u001b[0m, in \u001b[0;36mStream_inexact.__getitem__\u001b[0;34m(self, n)\u001b[0m\n\u001b[1;32m    378\u001b[0m \u001b[38;5;28;01mexcept\u001b[39;00m \u001b[38;5;167;01mKeyError\u001b[39;00m:\n\u001b[1;32m    379\u001b[0m     \u001b[38;5;28;01mpass\u001b[39;00m\n\u001b[0;32m--> 381\u001b[0m c \u001b[38;5;241m=\u001b[39m \u001b[38;5;28;43mself\u001b[39;49m\u001b[38;5;241;43m.\u001b[39;49m\u001b[43mget_coefficient\u001b[49m\u001b[43m(\u001b[49m\u001b[43mn\u001b[49m\u001b[43m)\u001b[49m\n\u001b[1;32m    382\u001b[0m \u001b[38;5;28;01mif\u001b[39;00m \u001b[38;5;28mself\u001b[39m\u001b[38;5;241m.\u001b[39m_true_order \u001b[38;5;129;01mor\u001b[39;00m n \u001b[38;5;241m>\u001b[39m \u001b[38;5;28mself\u001b[39m\u001b[38;5;241m.\u001b[39m_approximate_order:\n\u001b[1;32m    383\u001b[0m     \u001b[38;5;28mself\u001b[39m\u001b[38;5;241m.\u001b[39m_cache[n] \u001b[38;5;241m=\u001b[39m c\n",
      "File \u001b[0;32m/usr/lib/python3.11/site-packages/sage/data_structures/stream.py:1866\u001b[0m, in \u001b[0;36mStream_cauchy_mul.get_coefficient\u001b[0;34m(self, n)\u001b[0m\n\u001b[1;32m   1847\u001b[0m \u001b[38;5;28;01mdef\u001b[39;00m \u001b[38;5;21mget_coefficient\u001b[39m(\u001b[38;5;28mself\u001b[39m, n):\n\u001b[1;32m   1848\u001b[0m \u001b[38;5;250m    \u001b[39m\u001b[38;5;124;03m\"\"\"\u001b[39;00m\n\u001b[1;32m   1849\u001b[0m \u001b[38;5;124;03m    Return the ``n``-th coefficient of ``self``.\u001b[39;00m\n\u001b[1;32m   1850\u001b[0m \n\u001b[0;32m   (...)\u001b[0m\n\u001b[1;32m   1864\u001b[0m \u001b[38;5;124;03m        [0, 0, 1, 6, 20, 50, 105, 196, 336, 540]\u001b[39;00m\n\u001b[1;32m   1865\u001b[0m \u001b[38;5;124;03m    \"\"\"\u001b[39;00m\n\u001b[0;32m-> 1866\u001b[0m     \u001b[38;5;28;01mreturn\u001b[39;00m \u001b[38;5;28msum\u001b[39m(l \u001b[38;5;241m*\u001b[39m \u001b[38;5;28mself\u001b[39m\u001b[38;5;241m.\u001b[39m_right[n \u001b[38;5;241m-\u001b[39m k]\n\u001b[1;32m   1867\u001b[0m                \u001b[38;5;28;01mfor\u001b[39;00m k \u001b[38;5;129;01min\u001b[39;00m \u001b[38;5;28mrange\u001b[39m(\u001b[38;5;28mself\u001b[39m\u001b[38;5;241m.\u001b[39m_left\u001b[38;5;241m.\u001b[39m_approximate_order,\n\u001b[1;32m   1868\u001b[0m                               n \u001b[38;5;241m-\u001b[39m \u001b[38;5;28mself\u001b[39m\u001b[38;5;241m.\u001b[39m_right\u001b[38;5;241m.\u001b[39m_approximate_order \u001b[38;5;241m+\u001b[39m \u001b[38;5;241m1\u001b[39m)\n\u001b[1;32m   1869\u001b[0m                \u001b[38;5;28;01mif\u001b[39;00m (l \u001b[38;5;241m:=\u001b[39m \u001b[38;5;28mself\u001b[39m\u001b[38;5;241m.\u001b[39m_left[k]))\n",
      "File \u001b[0;32m/usr/lib/python3.11/site-packages/sage/data_structures/stream.py:1869\u001b[0m, in \u001b[0;36m<genexpr>\u001b[0;34m(.0)\u001b[0m\n\u001b[1;32m   1847\u001b[0m \u001b[38;5;28;01mdef\u001b[39;00m \u001b[38;5;21mget_coefficient\u001b[39m(\u001b[38;5;28mself\u001b[39m, n):\n\u001b[1;32m   1848\u001b[0m \u001b[38;5;250m    \u001b[39m\u001b[38;5;124;03m\"\"\"\u001b[39;00m\n\u001b[1;32m   1849\u001b[0m \u001b[38;5;124;03m    Return the ``n``-th coefficient of ``self``.\u001b[39;00m\n\u001b[1;32m   1850\u001b[0m \n\u001b[0;32m   (...)\u001b[0m\n\u001b[1;32m   1864\u001b[0m \u001b[38;5;124;03m        [0, 0, 1, 6, 20, 50, 105, 196, 336, 540]\u001b[39;00m\n\u001b[1;32m   1865\u001b[0m \u001b[38;5;124;03m    \"\"\"\u001b[39;00m\n\u001b[1;32m   1866\u001b[0m     \u001b[38;5;28;01mreturn\u001b[39;00m \u001b[38;5;28msum\u001b[39m(l \u001b[38;5;241m*\u001b[39m \u001b[38;5;28mself\u001b[39m\u001b[38;5;241m.\u001b[39m_right[n \u001b[38;5;241m-\u001b[39m k]\n\u001b[1;32m   1867\u001b[0m                \u001b[38;5;28;01mfor\u001b[39;00m k \u001b[38;5;129;01min\u001b[39;00m \u001b[38;5;28mrange\u001b[39m(\u001b[38;5;28mself\u001b[39m\u001b[38;5;241m.\u001b[39m_left\u001b[38;5;241m.\u001b[39m_approximate_order,\n\u001b[1;32m   1868\u001b[0m                               n \u001b[38;5;241m-\u001b[39m \u001b[38;5;28mself\u001b[39m\u001b[38;5;241m.\u001b[39m_right\u001b[38;5;241m.\u001b[39m_approximate_order \u001b[38;5;241m+\u001b[39m \u001b[38;5;241m1\u001b[39m)\n\u001b[0;32m-> 1869\u001b[0m                \u001b[38;5;28;01mif\u001b[39;00m (l \u001b[38;5;241m:=\u001b[39m \u001b[38;5;28;43mself\u001b[39;49m\u001b[38;5;241;43m.\u001b[39;49m\u001b[43m_left\u001b[49m\u001b[43m[\u001b[49m\u001b[43mk\u001b[49m\u001b[43m]\u001b[49m))\n",
      "File \u001b[0;32m/usr/lib/python3.11/site-packages/sage/data_structures/stream.py:381\u001b[0m, in \u001b[0;36mStream_inexact.__getitem__\u001b[0;34m(self, n)\u001b[0m\n\u001b[1;32m    378\u001b[0m \u001b[38;5;28;01mexcept\u001b[39;00m \u001b[38;5;167;01mKeyError\u001b[39;00m:\n\u001b[1;32m    379\u001b[0m     \u001b[38;5;28;01mpass\u001b[39;00m\n\u001b[0;32m--> 381\u001b[0m c \u001b[38;5;241m=\u001b[39m \u001b[38;5;28;43mself\u001b[39;49m\u001b[38;5;241;43m.\u001b[39;49m\u001b[43mget_coefficient\u001b[49m\u001b[43m(\u001b[49m\u001b[43mn\u001b[49m\u001b[43m)\u001b[49m\n\u001b[1;32m    382\u001b[0m \u001b[38;5;28;01mif\u001b[39;00m \u001b[38;5;28mself\u001b[39m\u001b[38;5;241m.\u001b[39m_true_order \u001b[38;5;129;01mor\u001b[39;00m n \u001b[38;5;241m>\u001b[39m \u001b[38;5;28mself\u001b[39m\u001b[38;5;241m.\u001b[39m_approximate_order:\n\u001b[1;32m    383\u001b[0m     \u001b[38;5;28mself\u001b[39m\u001b[38;5;241m.\u001b[39m_cache[n] \u001b[38;5;241m=\u001b[39m c\n",
      "File \u001b[0;32m/usr/lib/python3.11/site-packages/sage/data_structures/stream.py:1866\u001b[0m, in \u001b[0;36mStream_cauchy_mul.get_coefficient\u001b[0;34m(self, n)\u001b[0m\n\u001b[1;32m   1847\u001b[0m \u001b[38;5;28;01mdef\u001b[39;00m \u001b[38;5;21mget_coefficient\u001b[39m(\u001b[38;5;28mself\u001b[39m, n):\n\u001b[1;32m   1848\u001b[0m \u001b[38;5;250m    \u001b[39m\u001b[38;5;124;03m\"\"\"\u001b[39;00m\n\u001b[1;32m   1849\u001b[0m \u001b[38;5;124;03m    Return the ``n``-th coefficient of ``self``.\u001b[39;00m\n\u001b[1;32m   1850\u001b[0m \n\u001b[0;32m   (...)\u001b[0m\n\u001b[1;32m   1864\u001b[0m \u001b[38;5;124;03m        [0, 0, 1, 6, 20, 50, 105, 196, 336, 540]\u001b[39;00m\n\u001b[1;32m   1865\u001b[0m \u001b[38;5;124;03m    \"\"\"\u001b[39;00m\n\u001b[0;32m-> 1866\u001b[0m     \u001b[38;5;28;01mreturn\u001b[39;00m \u001b[38;5;28msum\u001b[39m(l \u001b[38;5;241m*\u001b[39m \u001b[38;5;28mself\u001b[39m\u001b[38;5;241m.\u001b[39m_right[n \u001b[38;5;241m-\u001b[39m k]\n\u001b[1;32m   1867\u001b[0m                \u001b[38;5;28;01mfor\u001b[39;00m k \u001b[38;5;129;01min\u001b[39;00m \u001b[38;5;28mrange\u001b[39m(\u001b[38;5;28mself\u001b[39m\u001b[38;5;241m.\u001b[39m_left\u001b[38;5;241m.\u001b[39m_approximate_order,\n\u001b[1;32m   1868\u001b[0m                               n \u001b[38;5;241m-\u001b[39m \u001b[38;5;28mself\u001b[39m\u001b[38;5;241m.\u001b[39m_right\u001b[38;5;241m.\u001b[39m_approximate_order \u001b[38;5;241m+\u001b[39m \u001b[38;5;241m1\u001b[39m)\n\u001b[1;32m   1869\u001b[0m                \u001b[38;5;28;01mif\u001b[39;00m (l \u001b[38;5;241m:=\u001b[39m \u001b[38;5;28mself\u001b[39m\u001b[38;5;241m.\u001b[39m_left[k]))\n",
      "File \u001b[0;32m/usr/lib/python3.11/site-packages/sage/data_structures/stream.py:1866\u001b[0m, in \u001b[0;36m<genexpr>\u001b[0;34m(.0)\u001b[0m\n\u001b[1;32m   1847\u001b[0m \u001b[38;5;28;01mdef\u001b[39;00m \u001b[38;5;21mget_coefficient\u001b[39m(\u001b[38;5;28mself\u001b[39m, n):\n\u001b[1;32m   1848\u001b[0m \u001b[38;5;250m    \u001b[39m\u001b[38;5;124;03m\"\"\"\u001b[39;00m\n\u001b[1;32m   1849\u001b[0m \u001b[38;5;124;03m    Return the ``n``-th coefficient of ``self``.\u001b[39;00m\n\u001b[1;32m   1850\u001b[0m \n\u001b[0;32m   (...)\u001b[0m\n\u001b[1;32m   1864\u001b[0m \u001b[38;5;124;03m        [0, 0, 1, 6, 20, 50, 105, 196, 336, 540]\u001b[39;00m\n\u001b[1;32m   1865\u001b[0m \u001b[38;5;124;03m    \"\"\"\u001b[39;00m\n\u001b[0;32m-> 1866\u001b[0m     \u001b[38;5;28;01mreturn\u001b[39;00m \u001b[38;5;28msum\u001b[39m(l \u001b[38;5;241m*\u001b[39m \u001b[38;5;28mself\u001b[39m\u001b[38;5;241m.\u001b[39m_right[n \u001b[38;5;241m-\u001b[39m k]\n\u001b[1;32m   1867\u001b[0m                \u001b[38;5;28;01mfor\u001b[39;00m k \u001b[38;5;129;01min\u001b[39;00m \u001b[38;5;28mrange\u001b[39m(\u001b[38;5;28mself\u001b[39m\u001b[38;5;241m.\u001b[39m_left\u001b[38;5;241m.\u001b[39m_approximate_order,\n\u001b[1;32m   1868\u001b[0m                               n \u001b[38;5;241m-\u001b[39m \u001b[38;5;28mself\u001b[39m\u001b[38;5;241m.\u001b[39m_right\u001b[38;5;241m.\u001b[39m_approximate_order \u001b[38;5;241m+\u001b[39m \u001b[38;5;241m1\u001b[39m)\n\u001b[1;32m   1869\u001b[0m                \u001b[38;5;28;01mif\u001b[39;00m (l \u001b[38;5;241m:=\u001b[39m \u001b[38;5;28mself\u001b[39m\u001b[38;5;241m.\u001b[39m_left[k]))\n",
      "File \u001b[0;32msrc/cysignals/signals.pyx:341\u001b[0m, in \u001b[0;36mcysignals.signals.python_check_interrupt\u001b[0;34m()\u001b[0m\n",
      "\u001b[0;31mKeyboardInterrupt\u001b[0m: "
     ]
    }
   ],
   "source": [
    "S = area_series(2)\n",
    "for i in range(10):\n",
    "    print(N(S.truncate(1000*i)(4/27)))"
   ]
  },
  {
   "cell_type": "code",
   "execution_count": 99,
   "id": "92436233-d61d-4a54-852f-7af2c67ff358",
   "metadata": {},
   "outputs": [
    {
     "name": "stdout",
     "output_type": "stream",
     "text": [
      "[0, 2, 30, 400, 5140, 64940, 812822, 10114880, 125384200, 1550014270]\n",
      "[0, 2, 30, 400, 5140, 64940, 812822, 10114880, 125384200, 1550014270]\n"
     ]
    }
   ],
   "source": [
    "print(area_series_coefs(4,10))\n",
    "print([area(4,n) for n in range(10)])\n"
   ]
  },
  {
   "cell_type": "code",
   "execution_count": 18,
   "id": "328be03c-7270-4315-9f68-96059c0fb8aa",
   "metadata": {
    "scrolled": true
   },
   "outputs": [
    {
     "data": {
      "image/png": "[encoded data removed]",
      "text/plain": [
       "Graphics object consisting of 2 graphics primitives"
      ]
     },
     "metadata": {},
     "output_type": "display_data"
    }
   ],
   "source": [
    "points = average_series_coefs(2,10)  # Calculate points for average_dyck_path_area\n",
    "points2 = [(n, n^(1.5)) for n in range(10)]  # Calculate points for asymp\n",
    "\n",
    "# Plot the points\n",
    "p1 = list_plot(points, color='blue', legend_label='total compute')\n",
    "p2 = list_plot(points2, color='red', legend_label='total gfunc')\n",
    "show(p1 + p2)"
   ]
  },
  {
   "cell_type": "code",
   "execution_count": 30,
   "id": "51473570-963d-49fa-badc-525b8523c5a8",
   "metadata": {
    "scrolled": true
   },
   "outputs": [
    {
     "data": {
      "image/png": "[encoded data removed]",
      "text/plain": [
       "Graphics object consisting of 1 graphics primitive"
      ]
     },
     "metadata": {},
     "output_type": "display_data"
    }
   ],
   "source": [
    "points = bound_series_coefs(2,200)  # Calculate points for average_dyck_path_area\n",
    "zz = [x for x in points if x != 'NAN' and x > 0]\n",
    "p1 = list_plot(zz, color='blue', legend_label='total compute')\n",
    "show(p1)"
   ]
  },
  {
   "cell_type": "code",
   "execution_count": 31,
   "id": "4c99007f-c8df-4dd6-87f0-f129a1a5414c",
   "metadata": {},
   "outputs": [],
   "source": [
    "bnd = bound_series_coefs(2,200)"
   ]
  },
  {
   "cell_type": "code",
   "execution_count": 35,
   "id": "1def7ea1-bab3-4601-a335-48fe04a70a30",
   "metadata": {
    "scrolled": true
   },
   "outputs": [
    {
     "name": "stdout",
     "output_type": "stream",
     "text": [
      "verbose 0 (2236: graphics.py, get_minmax_data) ymin was NaN (setting to 0)\n",
      "verbose 0 (2236: graphics.py, get_minmax_data) ymax was NaN (setting to 0)\n"
     ]
    },
    {
     "data": {
      "image/png": "[encoded data removed]",
      "text/plain": [
       "Graphics object consisting of 1 graphics primitive"
      ]
     },
     "metadata": {},
     "output_type": "display_data"
    }
   ],
   "source": [
    "diff = [bnd[i + 1] - bnd[i] for i in range(len(bnd) - 1)]\n",
    "p1 = list_plot(diff, color='blue', legend_label='successive differences')\n",
    "show(p1)"
   ]
  },
  {
   "cell_type": "code",
   "execution_count": 42,
   "id": "8eb9c2ed-5701-4fec-85e9-7b8d296740a9",
   "metadata": {},
   "outputs": [
    {
     "name": "stdout",
     "output_type": "stream",
     "text": [
      "The differences become negligible starting at index 189 between elements 1.45484245479922 and 1.45504160585849\n"
     ]
    }
   ],
   "source": [
    "# Define a negligible threshold\n",
    "threshold = 0.0002\n",
    "\n",
    "# Compute successive differences and find where they become negligible\n",
    "for i in range(len(bnd) - 1):\n",
    "    difference = abs(bnd[i + 1] - bnd[i])\n",
    "    if difference <= threshold:\n",
    "        print(f\"The differences become negligible starting at index {i} between elements {bnd[i]} and {bnd[i+1]}\")\n",
    "        break\n",
    "else:\n",
    "    print(\"No negligible differences found within the given threshold.\")"
   ]
  },
  {
   "cell_type": "code",
   "execution_count": 102,
   "id": "80bfaf71-7584-43f0-be69-20c4ab37c5bf",
   "metadata": {},
   "outputs": [],
   "source": [
    "from tqdm import tqdm\n",
    "\n",
    "def estimate_limit(threshold, s, T=1000):\n",
    "    prev_ratio = 0\n",
    "    # Use tqdm to create a progress bar for the loop\n",
    "    for n in tqdm(range(1, T), desc=\"Calculating\"):\n",
    "        # Assuming area_series_coef and fuss are defined elsewhere\n",
    "        # and the exponentiation operator should be **, not ^\n",
    "        current_ratio = (area_series_coef(s, n) / fuss(s+1, n)) / n**1.5\n",
    "        if abs(current_ratio - prev_ratio) < threshold:\n",
    "            return current_ratio, n\n",
    "        prev_ratio = current_ratio\n",
    "    return None, None  # Return None if no convergence within the range\n"
   ]
  },
  {
   "cell_type": "code",
   "execution_count": 103,
   "id": "b2e60ecb-d1bb-40f3-88a5-4cb8d021c863",
   "metadata": {},
   "outputs": [
    {
     "name": "stderr",
     "output_type": "stream",
     "text": [
      "Calculating:   6%|██                                | 61/999 [00:00<00:06, 143.24it/s]"
     ]
    },
    {
     "name": "stdout",
     "output_type": "stream",
     "text": [
      "Estimated limit: 1.40089682362688 achieved at iteration 62\n"
     ]
    },
    {
     "name": "stderr",
     "output_type": "stream",
     "text": [
      "\n"
     ]
    }
   ],
   "source": [
    "# Example usage:\n",
    "threshold = 0.001  # Set your threshold here\n",
    "\n",
    "limit_estimate, iteration = estimate_limit(threshold, s=2)\n",
    "if limit_estimate is not None:\n",
    "    print(f\"Estimated limit: {limit_estimate} achieved at iteration {iteration}\")\n",
    "else:\n",
    "    print(\"Limit did not stabilize within the given iterations.\")"
   ]
  },
  {
   "cell_type": "code",
   "execution_count": 73,
   "id": "9ad594ef-8667-4f07-aa2c-a9b1eb4e1b5f",
   "metadata": {},
   "outputs": [
    {
     "name": "stderr",
     "output_type": "stream",
     "text": [
      "Calculating:   1%|▎                                 | 11/999 [00:00<00:01, 628.75it/s]\n",
      "Calculating:   1%|▍                                 | 13/999 [00:00<00:01, 888.65it/s]\n",
      "Calculating:   1%|▍                                 | 14/999 [00:00<00:01, 775.04it/s]\n",
      "Calculating:   2%|▌                                 | 16/999 [00:00<00:01, 602.51it/s]\n",
      "Calculating:   2%|▌                                 | 17/999 [00:00<00:03, 321.38it/s]\n",
      "Calculating:   2%|▌                                 | 18/999 [00:00<00:02, 429.78it/s]\n",
      "Calculating:   2%|▋                                 | 19/999 [00:00<00:02, 361.31it/s]\n",
      "Calculating:   2%|▋                                 | 21/999 [00:00<00:02, 385.19it/s]\n",
      "Calculating:   2%|▋                                 | 22/999 [00:00<00:02, 337.55it/s]\n",
      "Calculating:   2%|▊                                 | 23/999 [00:00<00:02, 451.97it/s]\n",
      "Calculating:   2%|▊                                 | 24/999 [00:00<00:02, 327.66it/s]\n",
      "Calculating:   3%|▊                                 | 25/999 [00:00<00:03, 274.71it/s]\n",
      "Calculating:   3%|▉                                 | 26/999 [00:00<00:03, 318.64it/s]\n",
      "Calculating:   3%|▉                                 | 27/999 [00:00<00:03, 270.46it/s]\n",
      "Calculating:   3%|▉                                 | 28/999 [00:00<00:04, 223.36it/s]\n",
      "Calculating:   3%|▉                                 | 29/999 [00:00<00:03, 303.71it/s]\n",
      "Calculating:   3%|█                                 | 30/999 [00:00<00:03, 255.62it/s]\n",
      "Calculating:   3%|█                                 | 31/999 [00:00<00:03, 277.41it/s]\n",
      "Calculating:   3%|█                                 | 32/999 [00:00<00:03, 269.47it/s]\n",
      "Calculating:   3%|█                                 | 33/999 [00:00<00:03, 257.34it/s]\n",
      "Calculating:   3%|█▏                                | 34/999 [00:00<00:04, 228.80it/s]\n",
      "Calculating:   4%|█▏                                | 35/999 [00:00<00:03, 261.51it/s]\n",
      "Calculating:   4%|█▏                                | 36/999 [00:00<00:04, 231.21it/s]\n",
      "Calculating:   4%|█▏                                | 36/999 [00:00<00:03, 257.27it/s]\n",
      "Calculating:   4%|█▎                                | 37/999 [00:00<00:04, 211.31it/s]\n",
      "Calculating:   4%|█▎                                | 38/999 [00:00<00:04, 234.75it/s]\n",
      "Calculating:   4%|█▎                                | 39/999 [00:00<00:04, 207.49it/s]\n",
      "Calculating:   4%|█▎                                | 40/999 [00:00<00:04, 208.59it/s]\n",
      "Calculating:   4%|█▍                                | 41/999 [00:00<00:05, 182.25it/s]\n",
      "Calculating:   4%|█▍                                | 41/999 [00:00<00:04, 231.18it/s]\n",
      "Calculating:   4%|█▍                                | 42/999 [00:00<00:04, 205.81it/s]\n",
      "Calculating:   4%|█▍                                | 43/999 [00:00<00:05, 181.21it/s]\n",
      "Calculating:   4%|█▍                                | 44/999 [00:00<00:06, 154.65it/s]\n",
      "Calculating:   5%|█▌                                | 45/999 [00:00<00:05, 184.69it/s]\n",
      "Calculating:   5%|█▌                                | 45/999 [00:00<00:05, 176.27it/s]\n",
      "Calculating:   5%|█▌                                | 46/999 [00:00<00:05, 159.75it/s]\n",
      "Calculating:   5%|█▌                                | 47/999 [00:00<00:08, 118.33it/s]\n",
      "Calculating:   5%|█▋                                | 48/999 [00:00<00:05, 163.28it/s]\n",
      "Calculating:   5%|█▋                                | 49/999 [00:00<00:05, 158.64it/s]\n",
      "Calculating:   5%|█▋                                | 49/999 [00:00<00:05, 165.64it/s]\n",
      "Calculating:   5%|█▋                                | 50/999 [00:00<00:06, 141.34it/s]\n",
      "Calculating:   5%|█▋                                | 51/999 [00:00<00:05, 158.88it/s]\n",
      "Calculating:   5%|█▋                                | 51/999 [00:00<00:06, 144.54it/s]\n",
      "Calculating:   5%|█▊                                | 52/999 [00:00<00:06, 138.82it/s]\n",
      "Calculating:   5%|█▊                                | 53/999 [00:00<00:08, 107.99it/s]\n",
      "Calculating:   5%|█▊                                | 54/999 [00:00<00:06, 154.60it/s]\n",
      "Calculating:   5%|█▊                                | 54/999 [00:00<00:07, 132.70it/s]\n",
      "Calculating:   6%|█▊                                | 55/999 [00:00<00:06, 135.19it/s]\n",
      "Calculating:   6%|█▉                                | 56/999 [00:00<00:08, 117.18it/s]\n",
      "Calculating:   6%|█▉                                 | 57/999 [00:00<00:09, 97.15it/s]\n",
      "Calculating:   6%|█▉                                 | 57/999 [00:00<00:10, 90.54it/s]\n",
      "Calculating:   6%|█▉                                | 58/999 [00:00<00:08, 116.31it/s]\n",
      "Calculating:   6%|██                                | 59/999 [00:00<00:09, 102.32it/s]\n",
      "Calculating:   6%|██                                | 59/999 [00:00<00:07, 124.92it/s]\n",
      "Calculating:   6%|██                                 | 60/999 [00:00<00:10, 85.46it/s]\n",
      "Calculating:   6%|██▏                                | 61/999 [00:00<00:09, 95.32it/s]\n",
      "Calculating:   6%|██▏                                | 61/999 [00:00<00:11, 78.23it/s]\n",
      "Calculating:   6%|██                                | 62/999 [00:00<00:09, 100.91it/s]\n",
      "Calculating:   6%|██▏                                | 63/999 [00:00<00:10, 91.25it/s]\n",
      "Calculating:   6%|██▏                                | 63/999 [00:00<00:09, 94.16it/s]\n",
      "Calculating:   6%|██▏                                | 64/999 [00:00<00:10, 85.53it/s]\n",
      "Calculating:   7%|██▏                               | 65/999 [00:00<00:07, 116.77it/s]\n",
      "Calculating:   7%|██▏                               | 65/999 [00:00<00:08, 104.03it/s]\n",
      "Calculating:   7%|██▏                               | 66/999 [00:00<00:08, 108.24it/s]\n",
      "Calculating:   7%|██▎                                | 67/999 [00:00<00:09, 95.00it/s]\n",
      "Calculating:   7%|██▎                               | 67/999 [00:00<00:09, 102.02it/s]\n",
      "Calculating:   7%|██▍                                | 68/999 [00:00<00:10, 92.09it/s]\n",
      "Calculating:   7%|██▍                                | 69/999 [00:00<00:10, 92.69it/s]\n",
      "Calculating:   7%|██▍                                | 69/999 [00:00<00:11, 83.52it/s]\n",
      "Calculating:   7%|██▍                                | 70/999 [00:00<00:12, 75.59it/s]\n",
      "Calculating:   7%|██▍                                | 70/999 [00:00<00:10, 86.02it/s]\n",
      "Calculating:   7%|██▍                                | 71/999 [00:00<00:10, 84.64it/s]\n",
      "Calculating:   7%|██▌                                | 72/999 [00:00<00:12, 73.27it/s]\n",
      "Calculating:   7%|██▌                                | 72/999 [00:00<00:10, 85.10it/s]\n",
      "Calculating:   7%|██▌                                | 73/999 [00:00<00:12, 73.22it/s]\n",
      "Calculating:   7%|██▌                                | 74/999 [00:01<00:12, 72.43it/s]\n",
      "Calculating:   7%|██▌                                | 74/999 [00:01<00:13, 68.73it/s]\n",
      "Calculating:   8%|██▋                                | 75/999 [00:00<00:10, 84.41it/s]\n",
      "Calculating:   8%|██▋                                | 75/999 [00:01<00:12, 72.82it/s]\n",
      "Calculating:   8%|██▋                                | 76/999 [00:01<00:12, 74.76it/s]\n",
      "Calculating:   8%|██▋                                | 77/999 [00:01<00:15, 59.06it/s]\n",
      "Calculating:   8%|██▋                                | 77/999 [00:01<00:14, 65.37it/s]\n",
      "Calculating:   8%|██▋                                | 78/999 [00:01<00:16, 54.78it/s]\n",
      "Calculating:   8%|██▋                                | 78/999 [00:01<00:15, 60.96it/s]\n",
      "Calculating:   8%|██▊                                | 79/999 [00:01<00:16, 55.17it/s]\n",
      "Calculating:   8%|██▊                                | 80/999 [00:01<00:14, 61.86it/s]\n",
      "Calculating:   8%|██▊                                | 80/999 [00:01<00:16, 57.36it/s]\n",
      "Calculating:   8%|██▊                                | 81/999 [00:01<00:17, 52.51it/s]\n",
      "Calculating:   8%|██▊                                | 81/999 [00:01<00:16, 54.64it/s]\n",
      "Calculating:   8%|██▊                                | 82/999 [00:01<00:15, 58.40it/s]\n",
      "Calculating:   8%|██▉                                | 83/999 [00:01<00:18, 49.50it/s]\n",
      "Calculating:   8%|██▉                                | 83/999 [00:01<00:19, 48.02it/s]\n",
      "Calculating:   8%|██▉                                | 84/999 [00:01<00:19, 47.69it/s]\n",
      "Calculating:   8%|██▉                                | 84/999 [00:01<00:17, 53.21it/s]\n",
      "Calculating:   9%|██▉                                | 85/999 [00:01<00:19, 45.76it/s]\n",
      "Calculating:   9%|███                                | 86/999 [00:01<00:17, 51.97it/s]\n",
      "Calculating:   9%|███                                | 86/999 [00:01<00:17, 52.12it/s]\n",
      "Calculating:   9%|███                                | 87/999 [00:01<00:16, 54.80it/s]\n"
     ]
    }
   ],
   "source": [
    "constants = []\n",
    "threshold = 0.01  # Set your threshold here\n",
    "\n",
    "for i in range(2,100):\n",
    "    val, _ = estimate_limit(threshold, s=i)\n",
    "    constants.append(val)\n",
    "\n"
   ]
  },
  {
   "cell_type": "code",
   "execution_count": 62,
   "id": "27e12712-b048-432a-9895-bfc1f592e53f",
   "metadata": {},
   "outputs": [
    {
     "data": {
      "text/plain": [
       "[1.47122600110344, 2.10094962137886, 2.72682954214955]"
      ]
     },
     "execution_count": 62,
     "metadata": {},
     "output_type": "execute_result"
    }
   ],
   "source": [
    "constants"
   ]
  },
  {
   "cell_type": "code",
   "execution_count": null,
   "id": "b57f41dc-60b3-46e8-926b-ebb55c8f4335",
   "metadata": {},
   "outputs": [],
   "source": [
    "def asymp(n, a):\n",
    "    expr = n^(3/2) * sqrt(2*pi*a*(a+1))/4\n",
    "    return N(expr.subs({n: n, a: a}))"
   ]
  },
  {
   "cell_type": "code",
   "execution_count": 74,
   "id": "bb4ce812-12c8-490c-864a-24c33f339f43",
   "metadata": {},
   "outputs": [
    {
     "name": "stdout",
     "output_type": "stream",
     "text": [
      "0.825108385849938\n",
      "0.863447915906868\n",
      "0.882508459068251\n",
      "0.897844574769673\n",
      "0.906638402405982\n",
      "0.913355186218732\n",
      "0.918700683468385\n",
      "0.924671865053521\n",
      "0.928225799110604\n",
      "0.931270527903012\n",
      "0.933919731660109\n",
      "0.936254446507469\n",
      "0.938334149507412\n",
      "0.940203588688476\n",
      "0.941897154062486\n",
      "0.943441767319342\n",
      "0.944858846769864\n",
      "0.946165676818035\n",
      "0.947376383421572\n",
      "0.948502642488319\n",
      "0.949554203325180\n",
      "0.950539281514438\n",
      "0.951464857987905\n",
      "0.951737432979689\n",
      "0.952586099914455\n",
      "0.953389135608265\n",
      "0.954150608264233\n",
      "0.954874087199964\n",
      "0.955562719574655\n",
      "0.955730715335886\n",
      "0.956375372797093\n",
      "0.956991610411631\n",
      "0.957581501258237\n",
      "0.958146909838749\n",
      "0.958266710624572\n",
      "0.958801882063890\n",
      "0.959316410915107\n",
      "0.959811611094698\n",
      "0.960288681175208\n",
      "0.960377768699957\n",
      "0.960832884034253\n",
      "0.961272344045388\n",
      "0.961348388290415\n",
      "0.961769134951518\n",
      "0.962176212590941\n",
      "0.962570350861664\n",
      "0.962632700953061\n",
      "0.963011585524747\n",
      "0.963379031969116\n",
      "0.963735606890191\n",
      "0.963787508359808\n",
      "0.964131424553744\n",
      "0.964465632489117\n",
      "0.964511338335320\n",
      "0.964834348538017\n",
      "0.965148634016644\n",
      "0.965189142681692\n",
      "0.965493451262568\n",
      "0.965789875100302\n",
      "0.965825985772866\n",
      "0.966113463847021\n",
      "0.966393780923145\n",
      "0.966426140339226\n",
      "0.966698390870326\n",
      "0.966964108888486\n",
      "0.966993245618236\n",
      "0.967251653150059\n",
      "0.967504077742092\n",
      "0.967530427683801\n",
      "0.967776196893422\n",
      "0.967800946069055\n",
      "0.968040392330001\n",
      "0.968274578314523\n",
      "0.968297105479942\n",
      "0.968525497712119\n",
      "0.968749030068772\n",
      "0.968769606946507\n",
      "0.968987811835137\n",
      "0.969007256868726\n",
      "0.969220370807096\n",
      "0.969429158545723\n",
      "0.969447013712084\n",
      "0.969651096488945\n",
      "0.969668024052898\n",
      "0.969867597461015\n",
      "0.970063295258023\n",
      "0.970078911504747\n",
      "0.970270423452354\n",
      "0.970285271012034\n",
      "0.970472760860100\n",
      "0.970656759367255\n",
      "0.970670514032142\n",
      "0.970850764534801\n",
      "0.970863875869777\n",
      "0.971040516934149\n",
      "0.971213997242375\n",
      "0.971226189185980\n",
      "0.971396294471081\n"
     ]
    }
   ],
   "source": [
    "for i in range(2,100):\n",
    "    expr =  sqrt(2*pi*i*(i+1))/4\n",
    "    print(constants[i-2]/N(expr.subs({i:i})))"
   ]
  },
  {
   "cell_type": "code",
   "execution_count": 72,
   "id": "86f4e212-8a45-45ab-9aa8-9274f704c73b",
   "metadata": {},
   "outputs": [],
   "source": [
    "var('x, s, n')\n",
    "a(x) = sqrt(x)/(s*(1-x)+1)"
   ]
  },
  {
   "cell_type": "code",
   "execution_count": 67,
   "id": "a3f46fff-085f-4909-b8c0-658c08a58688",
   "metadata": {},
   "outputs": [
    {
     "data": {
      "text/plain": [
       "x |--> 2/s - 2/((s*x^2 + 1)*s)"
      ]
     },
     "execution_count": 67,
     "metadata": {},
     "output_type": "execute_result"
    }
   ],
   "source": [
    "a.partial_fraction(x)\n"
   ]
  },
  {
   "cell_type": "code",
   "execution_count": 66,
   "id": "2700dbef-8a3b-4430-9647-c2622af460ce",
   "metadata": {},
   "outputs": [
    {
     "data": {
      "text/plain": [
       "-2*(sqrt(s)*arctan(sqrt(s)) - s)/s^2"
      ]
     },
     "execution_count": 66,
     "metadata": {},
     "output_type": "execute_result"
    }
   ],
   "source": [
    "b = sqrt(n*x - x^2)/((n*s + 2)*(s*x + 1))\n",
    "assume(s>1)\n",
    "assume(n>1)\n",
    "integrate(a,x,0,1)"
   ]
  },
  {
   "cell_type": "code",
   "execution_count": 75,
   "id": "6a37afe3-d200-45a6-ad31-f3b3cfef81bd",
   "metadata": {},
   "outputs": [
    {
     "data": {
      "text/plain": [
       "I*pi*sqrt(s^2 + s)/s^2 - (sqrt(s^2 + s)*log(-2*s + 2*sqrt(s^2 + s) - 1) + 2*s)/s^2"
      ]
     },
     "execution_count": 75,
     "metadata": {},
     "output_type": "execute_result"
    }
   ],
   "source": [
    "\n",
    "# assume((n^2*s^4+4*n*s^3+4*s^2)>0)\n",
    "integrate(a(x),x, 0, 1)"
   ]
  },
  {
   "cell_type": "code",
   "execution_count": 12,
   "id": "48d7b4f3-387d-4311-abb4-a162533d7a79",
   "metadata": {},
   "outputs": [
    {
     "data": {
      "text/plain": [
       "1/2*((n^2 + 2*n)*s^2 + 2*(n + 2)*s - 2*(n*s + 1)*log(1/2*(n + 2)*s + 1) + 2*(n*s + 1)*log(1/2*(n - 2)*s + 1))/(n*s^4 + 2*s^3) - 1/2*n/s^2"
      ]
     },
     "execution_count": 12,
     "metadata": {},
     "output_type": "execute_result"
    }
   ],
   "source": [
    "\n",
    "integrate(a(x),x, n/2,n/2+1)\"lim sup\" denotes the limit superior. The root test states that the series converges if C < 1 and diverges if C > 1. It follows that the power series converges if the distance from z to the center a is less than "
   ]
  },
  {
   "cell_type": "code",
   "execution_count": 40,
   "id": "d8a838ac-8c32-4017-b13d-eaa3f190bf41",
   "metadata": {},
   "outputs": [
    {
     "data": {
      "text/plain": [
       "\u001b[0;31mSignature:\u001b[0m      \u001b[0massume\u001b[0m\u001b[0;34m(\u001b[0m\u001b[0;34m*\u001b[0m\u001b[0margs\u001b[0m\u001b[0;34m)\u001b[0m\u001b[0;34m\u001b[0m\u001b[0;34m\u001b[0m\u001b[0m\n",
       "\u001b[0;31mDocstring:\u001b[0m     \n",
       "   Make the given assumptions.\n",
       "\n",
       "   INPUT:\n",
       "\n",
       "   * \"*args\" -- a variable-length sequence of assumptions, each\n",
       "     consisting of:\n",
       "\n",
       "     * any number of symbolic inequalities, like \"0 < x, x < 1\"\n",
       "\n",
       "     * a subsequence of variable names, followed by some property that\n",
       "       should be assumed for those variables; for example, \"x, y, z,\n",
       "       'integer'\" would assume that each of \"x\", \"y\", and \"z\" are\n",
       "       integer variables, and \"x, 'odd'\" would assume that \"x\" is odd\n",
       "       (as opposed to even).\n",
       "\n",
       "     The two types can be combined, but a symbolic inequality cannot\n",
       "     appear in the middle of a list of variables.\n",
       "\n",
       "   OUTPUT:\n",
       "\n",
       "   If everything goes as planned, there is no output.\n",
       "\n",
       "   If you assume something that is not one of the two forms above,\n",
       "   then an \"AttributeError\" is raised as we try to call its \"assume\"\n",
       "   method.\n",
       "\n",
       "   If you make inconsistent assumptions (for example, that \"x\" is both\n",
       "   even and odd), then a \"ValueError\" is raised.\n",
       "\n",
       "   Warning:\n",
       "\n",
       "     Do not use Python's chained comparison notation in assumptions.\n",
       "     Python literally translates the expression \"0 < x < 1\" to \"(0 <\n",
       "     x) and (x < 1)\", but the value of \"bool(0 < x)\" is \"False\" when\n",
       "     \"x\" is a symbolic variable. Therefore, by the definition of\n",
       "     Python's logical \"and\" operator, the entire expression is equal\n",
       "     to \"0 < x\".\n",
       "\n",
       "   EXAMPLES:\n",
       "\n",
       "   Assumptions are typically used to ensure certain relations are\n",
       "   evaluated as true that are not true in general.\n",
       "\n",
       "   Here, we verify that for x>0, \\sqrt{x^2}=x:\n",
       "\n",
       "      sage: assume(x > 0)\n",
       "      sage: bool(sqrt(x^2) == x)\n",
       "      True\n",
       "\n",
       "   This will be assumed in the current Sage session until forgotten:\n",
       "\n",
       "      sage: bool(sqrt(x^2) == x)\n",
       "      True\n",
       "      sage: forget()\n",
       "      sage: bool(sqrt(x^2) == x)\n",
       "      False\n",
       "\n",
       "   Another major use case is in taking certain integrals and limits\n",
       "   where the answers may depend on some sign condition:\n",
       "\n",
       "      sage: var('x, n')\n",
       "      (x, n)\n",
       "      sage: assume(n+1>0)\n",
       "      sage: integral(x^n,x)\n",
       "      x^(n + 1)/(n + 1)\n",
       "      sage: forget()\n",
       "\n",
       "      sage: var('q, a, k')\n",
       "      (q, a, k)\n",
       "      sage: assume(q > 1)\n",
       "      sage: sum(a*q^k, k, 0, oo)\n",
       "      Traceback (most recent call last):\n",
       "      ...\n",
       "      ValueError: Sum is divergent.\n",
       "      sage: forget()\n",
       "      sage: assume(abs(q) < 1)\n",
       "      sage: sum(a*q^k, k, 0, oo)\n",
       "      -a/(q - 1)\n",
       "      sage: forget()\n",
       "\n",
       "   An integer constraint:\n",
       "\n",
       "      sage: n,P,r,r2 = SR.var('n, P, r, r2')\n",
       "      sage: assume(n, 'integer')\n",
       "      sage: c = P*e^(r*n)\n",
       "      sage: d = P*(1+r2)^n\n",
       "      sage: solve(c==d,r2)\n",
       "      [r2 == e^r - 1]\n",
       "      sage: forget()\n",
       "\n",
       "   Simplifying certain well-known identities works as well:\n",
       "\n",
       "      sage: n = SR.var('n')\n",
       "      sage: assume(n, 'integer')\n",
       "      sage: sin(n*pi)\n",
       "      0\n",
       "      sage: forget()\n",
       "      sage: sin(n*pi).simplify()\n",
       "      sin(pi*n)\n",
       "\n",
       "   Instead of using chained comparison notation, each relationship\n",
       "   should be passed as a separate assumption:\n",
       "\n",
       "      sage: x = SR.var('x')\n",
       "      sage: assume(0 < x, x < 1) # instead of assume(0 < x < 1)\n",
       "      sage: assumptions()\n",
       "      [0 < x, x < 1]\n",
       "      sage: forget()\n",
       "\n",
       "   If you make inconsistent or meaningless assumptions, Sage will let\n",
       "   you know:\n",
       "\n",
       "      sage: assume(x<0)\n",
       "      sage: assume(x>0)\n",
       "      Traceback (most recent call last):\n",
       "      ...\n",
       "      ValueError: Assumption is inconsistent\n",
       "      sage: assume(x<1)\n",
       "      Traceback (most recent call last):\n",
       "      ...\n",
       "      ValueError: Assumption is redundant\n",
       "      sage: assumptions()\n",
       "      [x < 0]\n",
       "      sage: forget()\n",
       "      sage: assume(x,'even')\n",
       "      sage: assume(x,'odd')\n",
       "      Traceback (most recent call last):\n",
       "      ...\n",
       "      ValueError: Assumption is inconsistent\n",
       "      sage: forget()\n",
       "\n",
       "   You can also use assumptions to evaluate simple truth values:\n",
       "\n",
       "      sage: x, y, z = var('x, y, z')\n",
       "      sage: assume(x>=y,y>=z,z>=x)\n",
       "      sage: bool(x==z)\n",
       "      True\n",
       "      sage: bool(z<x)\n",
       "      False\n",
       "      sage: bool(z>y)\n",
       "      False\n",
       "      sage: bool(y==z)\n",
       "      True\n",
       "      sage: forget()\n",
       "      sage: assume(x>=1,x<=1)\n",
       "      sage: bool(x==1)\n",
       "      True\n",
       "      sage: bool(x>1)\n",
       "      False\n",
       "      sage: forget()\n",
       "\u001b[0;31mInit docstring:\u001b[0m Initialize self.  See help(type(self)) for accurate signature.\n",
       "\u001b[0;31mFile:\u001b[0m           /usr/lib/python3.11/site-packages/sage/symbolic/assumptions.py\n",
       "\u001b[0;31mType:\u001b[0m           function"
      ]
     },
     "metadata": {},
     "output_type": "display_data"
    }
   ],
   "source": [
    "assume?"
   ]
  },
  {
   "cell_type": "code",
   "execution_count": null,
   "id": "1075ec6a-e7a7-40c2-b2cd-a43dba263aa5",
   "metadata": {},
   "outputs": [],
   "source": []
  }
 ],
 "metadata": {
  "kernelspec": {
   "display_name": "SageMath 10.3",
   "language": "sage",
   "name": "sagemath"
  },
  "language_info": {
   "codemirror_mode": {
    "name": "ipython",
    "version": 3
   },
   "file_extension": ".py",
   "mimetype": "text/x-python",
   "name": "python",
   "nbconvert_exporter": "python",
   "pygments_lexer": "ipython3",
   "version": "3.11.8"
  }
 },
 "nbformat": 4,
 "nbformat_minor": 5
}
