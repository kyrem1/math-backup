{
 "cells": [
  {
   "cell_type": "code",
   "execution_count": 26,
   "id": "5fe8841a-bc09-4802-92f8-cdc088f6ecae",
   "metadata": {},
   "outputs": [],
   "source": [
    "# Function to generate all rectangular Dyck paths for a given m x n rectangle\n",
    "def rectangular_dyck_paths(m, n):\n",
    "    if m == 0 and n == 0:\n",
    "        return [[]]\n",
    "    if m==0 and n>0:\n",
    "        return [['R'] * n]\n",
    "    if m>0 and n==0:\n",
    "        return [['U'] * m]\n",
    "\n",
    "    paths = []\n",
    "    if m > 0:\n",
    "        # Add a step in the vertical direction and recursively generate the rest of the path\n",
    "        for path in rectangular_dyck_paths(m - 1, n):\n",
    "            paths.append(['U'] + path)\n",
    "    if n > 0 and m < n:\n",
    "        # Add a step in the horizontal direction and recursively generate the rest of the path\n",
    "        for path in rectangular_dyck_paths(m, n - 1):\n",
    "            paths.append(['R'] + path)\n",
    "    \n",
    "    return paths\n",
    "\n",
    "# Function to compute the area under a rectangular Dyck path\n",
    "def path_area(path, m, n):\n",
    "    area = 0\n",
    "    vertical_steps = 0\n",
    "    for step in path:\n",
    "        if step == 'U':\n",
    "            vertical_steps += 1\n",
    "        elif step == 'R':\n",
    "            area += vertical_steps\n",
    "    \n",
    "    return area - (m*n)/2\n",
    "\n",
    "# Main function to compute average area under Dyck paths for a given rectangle size\n",
    "def total_dyck_path_area(m, n):\n",
    "    paths = rectangular_dyck_paths(m, n)\n",
    "    total_area = 0\n",
    "    for path in paths:\n",
    "        total_area += path_area(path, m, n)\n",
    "    \n",
    "    return total_area\n",
    "\n"
   ]
  },
  {
   "cell_type": "code",
   "execution_count": 27,
   "id": "899123ad-7f5e-499f-990e-7c83c300ee71",
   "metadata": {},
   "outputs": [
    {
     "name": "stdout",
     "output_type": "stream",
     "text": [
      "[['U', 'U', 'U', 'R', 'R', 'R'], ['U', 'U', 'R', 'U', 'R', 'R'], ['U', 'U', 'R', 'R', 'U', 'R'], ['U', 'R', 'U', 'U', 'R', 'R'], ['U', 'R', 'U', 'R', 'U', 'R']]\n"
     ]
    }
   ],
   "source": [
    "# Example usage for a 3x3 rectangl\n",
    "print(rectangular_dyck_paths(3,3))"
   ]
  },
  {
   "cell_type": "code",
   "execution_count": 28,
   "id": "d75d6961-b68b-4e96-97ae-bc1451c81931",
   "metadata": {},
   "outputs": [
    {
     "name": "stdout",
     "output_type": "stream",
     "text": [
      "     _\n",
      "   _| \n",
      " _|  .\n",
      "|  . .\n",
      "\n",
      "   ___\n",
      "  | x \n",
      " _|  .\n",
      "|  . .\n",
      "\n",
      "     _\n",
      " ___| \n",
      "| x  .\n",
      "|  . .\n",
      "\n"
     ]
    }
   ],
   "source": [
    "from sage.combinat.dyck_word import DyckWords\n",
    "\n",
    "# Function to display Dyck paths\n",
    "def display_dyck_paths(size, count=3):\n",
    "    # Get Dyck words of the specified size\n",
    "    dyck_words = DyckWords(size)\n",
    "    \n",
    "    # Iterate over the first few Dyck words and plot them\n",
    "    for dyck_word in dyck_words[:count]:\n",
    "        dyck_word.pretty_print()\n",
    "\n",
    "# Example usage for Dyck paths of size 3\n",
    "display_dyck_paths(3)\n"
   ]
  },
  {
   "cell_type": "code",
   "execution_count": null,
   "id": "8e2d9fd1-77ac-4430-bc74-9431d6163fb7",
   "metadata": {},
   "outputs": [],
   "source": [
    "for n in range(10):\n",
    "    # t = total_dyck_path_area(n,2*n+1)\n",
    "    f = 4^n - binomial(2*n + 1, n)\n",
    "    print(f' vs {f}')"
   ]
  },
  {
   "cell_type": "code",
   "execution_count": null,
   "id": "d619a724-050e-4bae-a113-d7fe4b971caa",
   "metadata": {},
   "outputs": [],
   "source": []
  }
 ],
 "metadata": {
  "kernelspec": {
   "display_name": "SageMath 10.3",
   "language": "sage",
   "name": "sagemath"
  },
  "language_info": {
   "codemirror_mode": {
    "name": "ipython",
    "version": 3
   },
   "file_extension": ".py",
   "mimetype": "text/x-python",
   "name": "python",
   "nbconvert_exporter": "python",
   "pygments_lexer": "ipython3",
   "version": "3.11.8"
  }
 },
 "nbformat": 4,
 "nbformat_minor": 5
}
