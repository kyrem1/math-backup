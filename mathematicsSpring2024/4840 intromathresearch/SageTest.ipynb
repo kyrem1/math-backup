{
 "cells": [
  {
   "cell_type": "code",
   "execution_count": null,
   "id": "3d5b6bf0-4b51-4b49-9620-4f4d688cebdb",
   "metadata": {},
   "outputs": [],
   "source": []
  }
 ],
 "metadata": {
  "kernelspec": {
   "display_name": "SageMath 10.2",
   "language": "sage",
   "name": "sagemath"
  },
  "language_info": {
   "codemirror_mode": {
    "name": "ipython",
    "version": 3
   },
   "file_extension": ".py",
   "mimetype": "text/x-python",
   "name": "python",
   "nbconvert_exporter": "python",
   "pygments_lexer": "ipython3",
   "version": "3.11.7"
  }
 },
 "nbformat": 4,
 "nbformat_minor": 5
}
