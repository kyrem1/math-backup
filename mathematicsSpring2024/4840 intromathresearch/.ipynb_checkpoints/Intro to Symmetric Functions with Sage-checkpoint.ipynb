{
 "cells": [
  {
   "cell_type": "code",
   "execution_count": 6,
   "id": "7c225dd2",
   "metadata": {},
   "outputs": [
    {
     "name": "stdout",
     "output_type": "stream",
     "text": [
      "Defining e as shorthand for Symmetric Functions over Rational Field in the elementary basis\n",
      "Defining f as shorthand for Symmetric Functions over Rational Field in the forgotten basis\n",
      "Defining h as shorthand for Symmetric Functions over Rational Field in the homogeneous basis\n",
      "Defining m as shorthand for Symmetric Functions over Rational Field in the monomial basis\n",
      "Defining p as shorthand for Symmetric Functions over Rational Field in the powersum basis\n",
      "Defining s as shorthand for Symmetric Functions over Rational Field in the Schur basis\n"
     ]
    }
   ],
   "source": [
    "Sym = SymmetricFunctions(QQ)\n",
    "Sym.inject_shorthands()\n"
   ]
  },
  {
   "cell_type": "code",
   "execution_count": 78,
   "id": "47631b22",
   "metadata": {},
   "outputs": [
    {
     "data": {
      "text/plain": [
       "x0^2*x1 + x0*x1^2"
      ]
     },
     "execution_count": 78,
     "metadata": {},
     "output_type": "execute_result"
    }
   ],
   "source": [
    "m([2,1]).expand(2) # write the monomial symmetric function m_{2,1} in 2 variables\n"
   ]
  },
  {
   "cell_type": "code",
   "execution_count": 79,
   "id": "6f67c757",
   "metadata": {},
   "outputs": [
    {
     "data": {
      "text/plain": [
       "x0^2*x1 + x0*x1^2 + x0^2*x2 + x1^2*x2 + x0*x2^2 + x1*x2^2"
      ]
     },
     "execution_count": 79,
     "metadata": {},
     "output_type": "execute_result"
    }
   ],
   "source": [
    "m([2,1]).expand(3) # write the monomial symmetric function m_{2,1} in 3 variables"
   ]
  },
  {
   "cell_type": "code",
   "execution_count": 11,
   "id": "71cf1cff",
   "metadata": {},
   "outputs": [
    {
     "data": {
      "text/plain": [
       "x0^2*x1 + x0*x1^2 + x0^2*x2 + 2*x0*x1*x2 + x1^2*x2 + x0*x2^2 + x1*x2^2"
      ]
     },
     "execution_count": 11,
     "metadata": {},
     "output_type": "execute_result"
    }
   ],
   "source": [
    "s([2,1]).expand(3)  # write the Schur functions s_{2,1} in three variables"
   ]
  },
  {
   "cell_type": "code",
   "execution_count": 81,
   "id": "f1696e8c",
   "metadata": {},
   "outputs": [
    {
     "data": {
      "text/plain": [
       "[[5], [4, 1], [3, 2], [3, 1, 1], [2, 2, 1], [2, 1, 1, 1], [1, 1, 1, 1, 1]]"
      ]
     },
     "execution_count": 81,
     "metadata": {},
     "output_type": "execute_result"
    }
   ],
   "source": [
    "Pars = Partitions(5)  \n",
    "Pars.list()"
   ]
  },
  {
   "cell_type": "code",
   "execution_count": 82,
   "id": "e1261222",
   "metadata": {},
   "outputs": [
    {
     "name": "stdout",
     "output_type": "stream",
     "text": [
      "[5] s[5, 1] + s[6]\n",
      "[4, 1] s[4, 1, 1] + s[4, 2] + s[5, 1]\n",
      "[3, 2] s[3, 2, 1] + s[3, 3] + s[4, 2]\n",
      "[3, 1, 1] s[3, 1, 1, 1] + s[3, 2, 1] + s[4, 1, 1]\n",
      "[2, 2, 1] s[2, 2, 1, 1] + s[2, 2, 2] + s[3, 2, 1]\n",
      "[2, 1, 1, 1] s[2, 1, 1, 1, 1] + s[2, 2, 1, 1] + s[3, 1, 1, 1]\n",
      "[1, 1, 1, 1, 1] s[1, 1, 1, 1, 1, 1] + s[2, 1, 1, 1, 1]\n"
     ]
    }
   ],
   "source": [
    "# We discussed Pieri's rule for computing $s_1 s_\\lambda$ in terms of Schur functions\n",
    "# We can use Sage to do this for us!\n",
    "\n",
    "for pp in Pars:\n",
    "    print(pp,s(s([1])*s(pp))) # note: to get the Schur expansion, we wrap s([1])*s([pp]) in the 's' function"
   ]
  },
  {
   "cell_type": "code",
   "execution_count": 84,
   "id": "1b5e9266",
   "metadata": {},
   "outputs": [
    {
     "name": "stdout",
     "output_type": "stream",
     "text": [
      "**\n",
      "***\n"
     ]
    }
   ],
   "source": [
    "# such a loop allows us to see that the coefficients are all 0 or 1\n",
    "# to try to find the rule, it sometimes helps to look at the shapes indexing the terms\n",
    "# for a partition lambda, to get the Ferrers shape, we \"pretty print\" with the command pp\n",
    "Partitions.options.convention=\"french\"\n",
    "Pars[2].pp()"
   ]
  },
  {
   "cell_type": "code",
   "execution_count": 85,
   "id": "10ee3312",
   "metadata": {},
   "outputs": [
    {
     "name": "stdout",
     "output_type": "stream",
     "text": [
      "\n",
      "\n",
      "multiplying s[1]*s[pa] for pa the shape:\n",
      "*****\n",
      "None\n",
      "******\n",
      "[[None]]\n",
      "*\n",
      "*****\n",
      "[[None, None]]\n",
      "[[None, None]]\n",
      "[[None, None]]\n",
      "[[None, None]]\n",
      "[[None, None]]\n",
      "[[None, None]]\n",
      "[[None, None]]\n",
      "[[None, None]]\n",
      "[[None, None]]\n",
      "[[None, None]]\n",
      "\n",
      "\n",
      "multiplying s[1]*s[pa] for pa the shape:\n",
      "*\n",
      "****\n",
      "None\n",
      "[[]]\n",
      "*\n",
      "*****\n",
      "[[None]]\n",
      "**\n",
      "****\n",
      "[[None, None]]\n",
      "*\n",
      "*\n",
      "****\n",
      "[[None, None, None]]\n",
      "[[None, None, None]]\n",
      "[[None, None, None]]\n",
      "[[None, None, None]]\n",
      "[[None, None, None]]\n",
      "[[None, None, None]]\n",
      "[[None, None, None]]\n",
      "[[None, None, None]]\n",
      "\n",
      "\n",
      "multiplying s[1]*s[pa] for pa the shape:\n",
      "**\n",
      "***\n",
      "None\n",
      "[[]]\n",
      "[[]]\n",
      "**\n",
      "****\n",
      "[[None]]\n",
      "[[None]]\n",
      "***\n",
      "***\n",
      "[[None, None]]\n",
      "*\n",
      "**\n",
      "***\n",
      "[[None, None, None]]\n",
      "[[None, None, None]]\n",
      "[[None, None, None]]\n",
      "[[None, None, None]]\n",
      "[[None, None, None]]\n",
      "[[None, None, None]]\n",
      "\n",
      "\n",
      "multiplying s[1]*s[pa] for pa the shape:\n",
      "*\n",
      "*\n",
      "***\n",
      "None\n",
      "[[]]\n",
      "[[]]\n",
      "[[]]\n",
      "*\n",
      "*\n",
      "****\n",
      "[[None]]\n",
      "[[None]]\n",
      "*\n",
      "**\n",
      "***\n",
      "[[None, None]]\n",
      "*\n",
      "*\n",
      "*\n",
      "***\n",
      "[[None, None, None]]\n",
      "[[None, None, None]]\n",
      "[[None, None, None]]\n",
      "[[None, None, None]]\n",
      "[[None, None, None]]\n",
      "\n",
      "\n",
      "multiplying s[1]*s[pa] for pa the shape:\n",
      "*\n",
      "**\n",
      "**\n",
      "None\n",
      "[[]]\n",
      "[[]]\n",
      "[[]]\n",
      "[[]]\n",
      "[[]]\n",
      "*\n",
      "**\n",
      "***\n",
      "[[None]]\n",
      "[[None]]\n",
      "**\n",
      "**\n",
      "**\n",
      "[[None, None]]\n",
      "*\n",
      "*\n",
      "**\n",
      "**\n",
      "[[None, None, None]]\n",
      "[[None, None, None]]\n",
      "[[None, None, None]]\n",
      "\n",
      "\n",
      "multiplying s[1]*s[pa] for pa the shape:\n",
      "*\n",
      "*\n",
      "*\n",
      "**\n",
      "None\n",
      "[[]]\n",
      "[[]]\n",
      "[[]]\n",
      "[[]]\n",
      "[[]]\n",
      "[[]]\n",
      "*\n",
      "*\n",
      "*\n",
      "***\n",
      "[[None]]\n",
      "[[None]]\n",
      "*\n",
      "*\n",
      "**\n",
      "**\n",
      "[[None, None]]\n",
      "*\n",
      "*\n",
      "*\n",
      "*\n",
      "**\n",
      "[[None, None, None]]\n",
      "[[None, None, None]]\n",
      "\n",
      "\n",
      "multiplying s[1]*s[pa] for pa the shape:\n",
      "*\n",
      "*\n",
      "*\n",
      "*\n",
      "*\n",
      "None\n",
      "[[]]\n",
      "[[]]\n",
      "[[]]\n",
      "[[]]\n",
      "[[]]\n",
      "[[]]\n",
      "[[]]\n",
      "[[]]\n",
      "[[]]\n",
      "*\n",
      "*\n",
      "*\n",
      "*\n",
      "**\n",
      "[[None]]\n",
      "*\n",
      "*\n",
      "*\n",
      "*\n",
      "*\n",
      "*\n",
      "[[None, None]]\n"
     ]
    }
   ],
   "source": [
    "# Since we are trying to pin down which coefficients are one in s_1 s_\\lambda, we want to \n",
    "# pretty print the shapes indexing only terms with coefficient 1\n",
    "\n",
    "ParsPlusOne = Partitions(6) # the possible indices will have degree 5 + 1 (for \\lambda of degree 5)\n",
    "\n",
    "for pa in Pars:\n",
    "    print('\\n') # just spacing out each example with a newline\n",
    "    print(\"multiplying s[1]*s[pa] for pa the shape:\")\n",
    "    print(pa.pp())\n",
    "    poly = s(s([1])*s(pa)) # compute the Schur expansion of s_1* s_\\pa\n",
    "    coes = [poly.coefficient(p) for p in ParsPlusOne ] # get a list of the coefficients in the expansion\n",
    "    pars = []\n",
    "    for i in range(len(coes)):\n",
    "        if coes[i]==1:\n",
    "            pars = pars+[ParsPlusOne[i].pp()]  # if the coefficient is non-zero, add the Schur index to a list\n",
    "        print([pars])"
   ]
  },
  {
   "cell_type": "code",
   "execution_count": 70,
   "id": "715b6d8a",
   "metadata": {},
   "outputs": [
    {
     "name": "stdout",
     "output_type": "stream",
     "text": [
      "s[4, 2] + s[5, 1] + s[6]\n",
      "s[4, 3] + s[5, 2] + s[6, 1] + s[7]\n",
      "s[3, 2, 1] + s[3, 3] + s[4, 1, 1] + s[4, 2] + s[5, 1]\n",
      "s[3, 3, 1] + s[4, 2, 1] + s[4, 3] + s[5, 1, 1] + s[5, 2] + s[6, 1]\n",
      "s[2, 2, 2] + s[3, 2, 1] + s[4, 2]\n",
      "s[3, 2, 2] + s[4, 2, 1] + s[5, 2]\n",
      "s[2, 2, 1, 1] + s[3, 1, 1, 1] + s[3, 2, 1] + s[4, 1, 1]\n",
      "s[3, 2, 1, 1] + s[4, 1, 1, 1] + s[4, 2, 1] + s[5, 1, 1]\n",
      "s[2, 1, 1, 1, 1] + s[3, 1, 1, 1]\n",
      "s[3, 1, 1, 1, 1] + s[4, 1, 1, 1]\n"
     ]
    }
   ],
   "source": [
    "# now we want to explore what the rule might be for $$s_r s_\\lambda$$ for any row shape (r)\n",
    "# first glance at some actual expansions to make gross observations about the coefficients\n",
    "Pars = Partitions(4)\n",
    "Pars.list()\n",
    "for pp in Pars:\n",
    "    print(s(s([2])*s(pp)))\n",
    "    print(s(s([3])*s(pp)))"
   ]
  },
  {
   "cell_type": "code",
   "execution_count": 77,
   "id": "81368633",
   "metadata": {},
   "outputs": [
    {
     "name": "stdout",
     "output_type": "stream",
     "text": [
      "multiplying s[r]*s[pa] for pa the shape:\n",
      "****\n",
      "None\n",
      "    **\n",
      "[[None]]\n",
      "*\n",
      "    *\n",
      "[[None, None]]\n",
      "**\n",
      "    \n",
      "[[None, None, None]]\n",
      "[[None, None, None]]\n",
      "[[None, None, None]]\n",
      "[[None, None, None]]\n",
      "[[None, None, None]]\n",
      "[[None, None, None]]\n",
      "[[None, None, None]]\n",
      "[[None, None, None]]\n",
      "[[None, None, None]]\n",
      "multiplying s[r]*s[pa] for pa the shape:\n",
      "*\n",
      "***\n",
      "None\n",
      "[[]]\n",
      " \n",
      "   **\n",
      "[[None]]\n",
      " *\n",
      "   *\n",
      "[[None, None]]\n",
      "*\n",
      " \n",
      "   *\n",
      "[[None, None, None]]\n",
      " **\n",
      "   \n",
      "[[None, None, None, None]]\n",
      "*\n",
      " *\n",
      "   \n",
      "[[None, None, None, None, None]]\n",
      "[[None, None, None, None, None]]\n",
      "[[None, None, None, None, None]]\n",
      "[[None, None, None, None, None]]\n",
      "[[None, None, None, None, None]]\n",
      "[[None, None, None, None, None]]\n",
      "multiplying s[r]*s[pa] for pa the shape:\n",
      "**\n",
      "**\n",
      "None\n",
      "[[]]\n",
      "[[]]\n",
      "  \n",
      "  **\n",
      "[[None]]\n",
      "[[None]]\n",
      "[[None]]\n",
      "*\n",
      "  \n",
      "  *\n",
      "[[None, None]]\n",
      "[[None, None]]\n",
      "**\n",
      "  \n",
      "  \n",
      "[[None, None, None]]\n",
      "[[None, None, None]]\n",
      "[[None, None, None]]\n",
      "[[None, None, None]]\n",
      "multiplying s[r]*s[pa] for pa the shape:\n",
      "*\n",
      "*\n",
      "**\n",
      "None\n",
      "[[]]\n",
      "[[]]\n",
      "[[]]\n",
      " \n",
      " \n",
      "  **\n",
      "[[None]]\n",
      "[[None]]\n",
      " \n",
      " *\n",
      "  *\n",
      "[[None, None]]\n",
      "*\n",
      " \n",
      " \n",
      "  *\n",
      "[[None, None, None]]\n",
      "[[None, None, None]]\n",
      "*\n",
      " \n",
      " *\n",
      "  \n",
      "[[None, None, None, None]]\n",
      "[[None, None, None, None]]\n",
      "[[None, None, None, None]]\n",
      "multiplying s[r]*s[pa] for pa the shape:\n",
      "*\n",
      "*\n",
      "*\n",
      "*\n",
      "None\n",
      "[[]]\n",
      "[[]]\n",
      "[[]]\n",
      "[[]]\n",
      "[[]]\n",
      "[[]]\n",
      " \n",
      " \n",
      " \n",
      " **\n",
      "[[None]]\n",
      "[[None]]\n",
      "[[None]]\n",
      "*\n",
      " \n",
      " \n",
      " \n",
      " *\n",
      "[[None, None]]\n",
      "[[None, None]]\n"
     ]
    }
   ],
   "source": [
    "# hopefully you observed that again, the coefficients are all 0 or 1\n",
    "# Thus, we need only determine what shapes occur in the expansion!\n",
    "\n",
    "r = 2\n",
    "ParsPlusr = Partitions(4+r) # these are the possible shapes in the Schur expansion (degree increases by 1)\n",
    "for pa in Pars:\n",
    "    print(\"multiplying s[r]*s[pa] for pa the shape:\")\n",
    "    print(pa.pp())\n",
    "    poly = s(s([r])*s(pa)) # compute the Schur expansion of s_r* s_\\pa\n",
    "    coes = [poly.coefficient(p) for p in ParsPlusr ] # get a list of the coefficients in the expansion\n",
    "    pars = []\n",
    "    for i in range(len(coes)):\n",
    "        if coes[i]==1:\n",
    "            pars = pars+[SkewPartition([ParsPlusr[i],pa]).pp()]  # if the coefficient is non-zero, add the Schur index to a list\n",
    "        print([pars])\n",
    "        \n"
   ]
  },
  {
   "cell_type": "code",
   "execution_count": null,
   "id": "df93a6e6",
   "metadata": {},
   "outputs": [],
   "source": []
  }
 ],
 "metadata": {
  "kernelspec": {
   "display_name": "SageMath 10.2",
   "language": "sage",
   "name": "sagemath"
  },
  "language_info": {
   "codemirror_mode": {
    "name": "ipython",
    "version": 3
   },
   "file_extension": ".py",
   "mimetype": "text/x-python",
   "name": "python",
   "nbconvert_exporter": "python",
   "pygments_lexer": "ipython3",
   "version": "3.11.1"
  }
 },
 "nbformat": 4,
 "nbformat_minor": 5
}
